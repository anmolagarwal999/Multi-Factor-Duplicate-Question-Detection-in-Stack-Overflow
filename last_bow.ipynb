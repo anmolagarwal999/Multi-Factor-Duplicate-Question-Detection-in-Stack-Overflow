{
 "cells": [
  {
   "cell_type": "code",
   "execution_count": 1,
   "metadata": {},
   "outputs": [],
   "source": [
    "import datetime\n",
    "import heapq\n",
    "import json\n",
    "import os\n",
    "import math\n",
    "import sys\n",
    "\n",
    "from preprocessing import Preprocess\n",
    "from composer import Composer as Compose_class"
   ]
  },
  {
   "cell_type": "code",
   "execution_count": 2,
   "metadata": {},
   "outputs": [],
   "source": [
    "%load_ext autoreload\n",
    "%autoreload 2"
   ]
  },
  {
   "cell_type": "code",
   "execution_count": 3,
   "metadata": {
    "scrolled": true
   },
   "outputs": [
    {
     "name": "stdout",
     "output_type": "stream",
     "text": [
      "badge_result.zip  -f\t\t\t      __pycache__\r\n",
      "composer.py\t  last_bow.ipynb\t      sample_curated.json\r\n",
      "config.py\t  LDA.py\t\t      stopwords.py\r\n",
      "curate_final\t  list_of_dup_questions.json  tags_result\r\n",
      "DataExtraction\t  manipulate_gsc_data.ipynb   user_result\r\n",
      "data_files\t  Postlinks_result.zip\t      user_result.zip\r\n",
      "extractor.py\t  preprocessing.py\r\n"
     ]
    }
   ],
   "source": [
    "!ls"
   ]
  },
  {
   "cell_type": "code",
   "execution_count": 4,
   "metadata": {},
   "outputs": [],
   "source": [
    "file_for_dup_posts=\"./list_of_dup_questions.json\"\n",
    "path_for_all_questions=\"./curate_final\"\n",
    "composer = Compose_class(duplicate_path=file_for_dup_posts, question_path=path_for_all_questions)"
   ]
  },
  {
   "cell_type": "code",
   "execution_count": 5,
   "metadata": {},
   "outputs": [
    {
     "name": "stdout",
     "output_type": "stream",
     "text": [
      "Opening and loading all duplicates\n",
      "Dups loaded : found 610\n",
      "Id of dup question being ivestigated is  81150\n",
      "legnth  1\n",
      "Id of dup question being ivestigated is  82483\n",
      "legnth  1\n",
      "dup sorted id is  10240\n",
      "curr file to be used is  final_0.json\n",
      "Loaded a dict with num candidates as  60000\n",
      "SIm scores found to be  {'title': 0.0, 'body': 0.06504280004874374, 'tags': 0.2581988897471611, 'topics': 0.08684855055946017}\n",
      "SIm scores found to be  {'title': 0.0, 'body': 0.0, 'tags': 0.0, 'topics': 0.03691725497425469}\n",
      "SIm scores found to be  {'title': 0.0, 'body': 0.04490132550669368, 'tags': 0.33333333333333326, 'topics': 0.126334834843294}\n"
     ]
    }
   ],
   "source": [
    "composer.duplicate_similarity()"
   ]
  },
  {
   "cell_type": "code",
   "execution_count": 6,
   "metadata": {},
   "outputs": [
    {
     "data": {
      "text/plain": [
       "[0.16493000915831857,\n",
       " 0.04777571445860895,\n",
       " 0.12316754656827933,\n",
       " 0.5919961022813696]"
      ]
     },
     "execution_count": 6,
     "metadata": {},
     "output_type": "execute_result"
    }
   ],
   "source": [
    "composer.param_estimation()"
   ]
  }
 ],
 "metadata": {
  "kernelspec": {
   "display_name": "Python 3",
   "language": "python",
   "name": "python3"
  },
  "language_info": {
   "codemirror_mode": {
    "name": "ipython",
    "version": 3
   },
   "file_extension": ".py",
   "mimetype": "text/x-python",
   "name": "python",
   "nbconvert_exporter": "python",
   "pygments_lexer": "ipython3",
   "version": "3.7.6"
  }
 },
 "nbformat": 4,
 "nbformat_minor": 4
}
