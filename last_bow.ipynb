{
 "cells": [
  {
   "cell_type": "code",
   "execution_count": 1,
   "metadata": {},
   "outputs": [],
   "source": [
    "import datetime\n",
    "import heapq\n",
    "import json\n",
    "import os\n",
    "import math\n",
    "import sys\n",
    "\n",
    "from preprocessing import Preprocess\n",
    "from composer import Composer as Compose_class"
   ]
  },
  {
   "cell_type": "code",
   "execution_count": 2,
   "metadata": {},
   "outputs": [],
   "source": [
    "%load_ext autoreload\n",
    "%autoreload 2"
   ]
  },
  {
   "cell_type": "code",
   "execution_count": 3,
   "metadata": {
    "scrolled": true
   },
   "outputs": [
    {
     "name": "stdout",
     "output_type": "stream",
     "text": [
      "badge_result.zip  -f\t\t\t      __pycache__\r\n",
      "composer.py\t  last_bow.ipynb\t      sample_curated.json\r\n",
      "config.py\t  LDA.py\t\t      stopwords.py\r\n",
      "curate_final\t  list_of_dup_questions.json  tags_result\r\n",
      "DataExtraction\t  manipulate_gsc_data.ipynb   user_result\r\n",
      "data_files\t  Postlinks_result.zip\t      user_result.zip\r\n",
      "extractor.py\t  preprocessing.py\r\n"
     ]
    }
   ],
   "source": [
    "!ls"
   ]
  },
  {
   "cell_type": "code",
   "execution_count": 4,
   "metadata": {},
   "outputs": [],
   "source": [
    "file_for_dup_posts=\"./list_of_dup_questions.json\"\n",
    "path_for_all_questions=\"./curate_final\"\n",
    "composer = Compose_class(duplicate_path=file_for_dup_posts, question_path=path_for_all_questions)"
   ]
  },
  {
   "cell_type": "code",
   "execution_count": 5,
   "metadata": {},
   "outputs": [
    {
     "name": "stdout",
     "output_type": "stream",
     "text": [
      "Opening and loading all duplicates\n",
      "Dups loaded : found 610\n",
      "Id of dup question being ivestigated is  81150\n",
      "legnth  1\n",
      "curr file to be used is  final_0.json\n",
      "Loaded a dict with num candidates as  60000\n"
     ]
    }
   ],
   "source": [
    "composer.duplicate_similarity()"
   ]
  },
  {
   "cell_type": "code",
   "execution_count": null,
   "metadata": {},
   "outputs": [],
   "source": []
  }
 ],
 "metadata": {
  "kernelspec": {
   "display_name": "Python 3",
   "language": "python",
   "name": "python3"
  },
  "language_info": {
   "codemirror_mode": {
    "name": "ipython",
    "version": 3
   },
   "file_extension": ".py",
   "mimetype": "text/x-python",
   "name": "python",
   "nbconvert_exporter": "python",
   "pygments_lexer": "ipython3",
   "version": "3.7.6"
  }
 },
 "nbformat": 4,
 "nbformat_minor": 4
}
