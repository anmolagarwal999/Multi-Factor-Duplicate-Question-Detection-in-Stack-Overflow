{
 "cells": [
  {
   "cell_type": "markdown",
   "metadata": {},
   "source": [
    "## Aim: To sort array by scores in descending order and to perform error analysis"
   ]
  },
  {
   "cell_type": "code",
   "execution_count": 1,
   "metadata": {},
   "outputs": [],
   "source": [
    "import os\n",
    "import json\n",
    "from tqdm.notebook import tqdm\n",
    "import sys"
   ]
  },
  {
   "cell_type": "code",
   "execution_count": null,
   "metadata": {},
   "outputs": [],
   "source": []
  },
  {
   "cell_type": "code",
   "execution_count": 2,
   "metadata": {},
   "outputs": [],
   "source": [
    "num_models=6"
   ]
  },
  {
   "cell_type": "code",
   "execution_count": 3,
   "metadata": {},
   "outputs": [],
   "source": [
    "OUTPUT_DIR_PATH=f\"./data_files/store_model_scores/sorted_pruned/\""
   ]
  },
  {
   "cell_type": "code",
   "execution_count": 4,
   "metadata": {},
   "outputs": [
    {
     "data": {
      "text/plain": [
       "[-1, -1, -1]"
      ]
     },
     "execution_count": 4,
     "metadata": {},
     "output_type": "execute_result"
    }
   ],
   "source": [
    "[-1]*3"
   ]
  },
  {
   "cell_type": "markdown",
   "metadata": {},
   "source": [
    "#### Store tags of all questions"
   ]
  },
  {
   "cell_type": "code",
   "execution_count": 5,
   "metadata": {},
   "outputs": [],
   "source": [
    "TAGS_DICT=dict()"
   ]
  },
  {
   "cell_type": "code",
   "execution_count": 6,
   "metadata": {},
   "outputs": [
    {
     "name": "stdout",
     "output_type": "stream",
     "text": [
      "curr file id is  0\n",
      "curr file id is  1\n",
      "curr file id is  2\n",
      "curr file id is  3\n",
      "curr file id is  4\n",
      "curr file id is  5\n",
      "curr file id is  6\n",
      "curr file id is  7\n",
      "curr file id is  8\n",
      "curr file id is  9\n",
      "curr file id is  10\n",
      "curr file id is  11\n",
      "curr file id is  12\n",
      "curr file id is  13\n",
      "curr file id is  14\n",
      "curr file id is  15\n",
      "curr file id is  16\n",
      "curr file id is  17\n",
      "curr file id is  18\n",
      "curr file id is  19\n",
      "curr file id is  20\n",
      "curr file id is  21\n",
      "curr file id is  22\n",
      "curr file id is  23\n",
      "curr file id is  24\n",
      "curr file id is  25\n",
      "curr file id is  26\n",
      "curr file id is  27\n",
      "curr file id is  28\n",
      "curr file id is  29\n",
      "curr file id is  30\n",
      "curr file id is  31\n",
      "curr file id is  32\n",
      "curr file id is  33\n",
      "curr file id is  34\n",
      "curr file id is  35\n",
      "curr file id is  36\n",
      "curr file id is  37\n",
      "curr file id is  38\n",
      "curr file id is  39\n",
      "curr file id is  40\n",
      "curr file id is  41\n",
      "curr file id is  42\n",
      "curr file id is  43\n",
      "curr file id is  44\n",
      "curr file id is  45\n",
      "curr file id is  46\n",
      "curr file id is  47\n",
      "curr file id is  48\n",
      "curr file id is  49\n"
     ]
    }
   ],
   "source": [
    "for curr_file_id in range(50):\n",
    "    with open(f\"./data_files/All_training_files/vectorize_dup_full/{curr_file_id}.json\",'r') as fd:\n",
    "        df=json.load(fd)\n",
    "    print(\"curr file id is \", curr_file_id)\n",
    "    for curr_key, curr_val in df.items():\n",
    "        TAGS_DICT[curr_key]=curr_val['tags_list']"
   ]
  },
  {
   "cell_type": "code",
   "execution_count": 7,
   "metadata": {},
   "outputs": [
    {
     "data": {
      "text/plain": [
       "83550"
      ]
     },
     "execution_count": 7,
     "metadata": {},
     "output_type": "execute_result"
    }
   ],
   "source": [
    "len(TAGS_DICT)"
   ]
  },
  {
   "cell_type": "markdown",
   "metadata": {},
   "source": [
    "### Reading the scores array for all the duplicate questions in the test set"
   ]
  },
  {
   "cell_type": "code",
   "execution_count": 8,
   "metadata": {},
   "outputs": [],
   "source": [
    "lb_file_idx=0\n",
    "ub_file_idx=3"
   ]
  },
  {
   "cell_type": "code",
   "execution_count": 9,
   "metadata": {},
   "outputs": [],
   "source": [
    "INPUT_DIR_PATH=\"./data_files/store_model_scores/org/\""
   ]
  },
  {
   "cell_type": "code",
   "execution_count": 10,
   "metadata": {},
   "outputs": [],
   "source": [
    "def have_common(q1, q2):\n",
    "    return bool(set(TAGS_DICT[str(q1)]) & set(TAGS_DICT[str(q2)]))"
   ]
  },
  {
   "cell_type": "code",
   "execution_count": 11,
   "metadata": {
    "scrolled": true
   },
   "outputs": [
    {
     "name": "stdout",
     "output_type": "stream",
     "text": [
      "Curr file idx is  0\n"
     ]
    },
    {
     "data": {
      "application/vnd.jupyter.widget-view+json": {
       "model_id": "69b43dd2251045f892ad79d5a94ee231",
       "version_major": 2,
       "version_minor": 0
      },
      "text/plain": [
       "HBox(children=(FloatProgress(value=0.0, max=25.0), HTML(value='')))"
      ]
     },
     "metadata": {},
     "output_type": "display_data"
    },
    {
     "name": "stdout",
     "output_type": "stream",
     "text": [
      "\n",
      "Curr file idx is  1\n"
     ]
    },
    {
     "data": {
      "application/vnd.jupyter.widget-view+json": {
       "model_id": "683a90f7dc5c4bbd94f807d49337b57f",
       "version_major": 2,
       "version_minor": 0
      },
      "text/plain": [
       "HBox(children=(FloatProgress(value=0.0, max=25.0), HTML(value='')))"
      ]
     },
     "metadata": {},
     "output_type": "display_data"
    },
    {
     "name": "stdout",
     "output_type": "stream",
     "text": [
      "\n",
      "Curr file idx is  2\n"
     ]
    },
    {
     "data": {
      "application/vnd.jupyter.widget-view+json": {
       "model_id": "154a27eba56740b982d55c8b9f6388c5",
       "version_major": 2,
       "version_minor": 0
      },
      "text/plain": [
       "HBox(children=(FloatProgress(value=0.0, max=25.0), HTML(value='')))"
      ]
     },
     "metadata": {},
     "output_type": "display_data"
    },
    {
     "name": "stdout",
     "output_type": "stream",
     "text": [
      "\n",
      "Curr file idx is  3\n"
     ]
    },
    {
     "data": {
      "application/vnd.jupyter.widget-view+json": {
       "model_id": "133c171549e34c5095d760337830d1b2",
       "version_major": 2,
       "version_minor": 0
      },
      "text/plain": [
       "HBox(children=(FloatProgress(value=0.0, max=25.0), HTML(value='')))"
      ]
     },
     "metadata": {},
     "output_type": "display_data"
    },
    {
     "name": "stdout",
     "output_type": "stream",
     "text": [
      "\n"
     ]
    }
   ],
   "source": [
    "for curr_file_idx in range(lb_file_idx, ub_file_idx+1):\n",
    "    print(\"Curr file idx is \", curr_file_idx)\n",
    "    with open(INPUT_DIR_PATH+f\"test_set_q_candidate_model_scores_{curr_file_idx}.json\",'r') as fd:\n",
    "        df=json.load(fd)\n",
    "    for curr_key, curr_val in tqdm(df.items()):\n",
    "        #curr_val['scores']=curr_val['scores'][:10]\n",
    "        #print(curr_val['scores'])\n",
    "        #################################################\n",
    "        curr_val['init_sss']=len(curr_val['scores'])\n",
    "        new_scores=list(filter(lambda x: (have_common(x['candidate_qid'],curr_key)) or (x['candidate_qid'] in curr_val['expected_questions']),curr_val['scores'] ))\n",
    "        curr_val['scores']=new_scores\n",
    "        \n",
    "        curr_val['final_sss']=len(curr_val['scores'])\n",
    "        ############################################\n",
    "        for this_val in curr_val['scores']:\n",
    "            #print\n",
    "            this_val['rank']=[-1]*num_models\n",
    "        for curr_model_id in range(num_models):\n",
    "            curr_val['scores']=sorted(curr_val['scores'], key=lambda x: x['cm_s'][curr_model_id], reverse=True)\n",
    "            for curr_rank, this_val in enumerate(curr_val['scores']):\n",
    "                this_val['rank'][curr_model_id]=curr_rank\n",
    "        #print(curr_val['scores'])\n",
    "    with open(OUTPUT_DIR_PATH+f\"test_set_q_candidate_model_scores_{curr_file_idx}.json\",'w') as fd:\n",
    "        json.dump(df, fd)\n",
    "            \n",
    "    "
   ]
  },
  {
   "cell_type": "code",
   "execution_count": null,
   "metadata": {},
   "outputs": [],
   "source": []
  },
  {
   "cell_type": "code",
   "execution_count": 12,
   "metadata": {},
   "outputs": [
    {
     "data": {
      "text/plain": [
       "['4', '6', '8', '9']"
      ]
     },
     "execution_count": 12,
     "metadata": {},
     "output_type": "execute_result"
    }
   ],
   "source": [
    "list(TAGS_DICT.keys())[:4]"
   ]
  },
  {
   "cell_type": "code",
   "execution_count": 13,
   "metadata": {},
   "outputs": [],
   "source": [
    "check={\"1\":1, \"2\":2}"
   ]
  },
  {
   "cell_type": "code",
   "execution_count": 14,
   "metadata": {},
   "outputs": [],
   "source": [
    "for a, b in check.items():\n",
    "    b+=1"
   ]
  },
  {
   "cell_type": "code",
   "execution_count": 15,
   "metadata": {},
   "outputs": [
    {
     "data": {
      "text/plain": [
       "{'1': 1, '2': 2}"
      ]
     },
     "execution_count": 15,
     "metadata": {},
     "output_type": "execute_result"
    }
   ],
   "source": [
    "check"
   ]
  },
  {
   "cell_type": "code",
   "execution_count": null,
   "metadata": {},
   "outputs": [],
   "source": []
  }
 ],
 "metadata": {
  "kernelspec": {
   "display_name": "Python 3",
   "language": "python",
   "name": "python3"
  },
  "language_info": {
   "codemirror_mode": {
    "name": "ipython",
    "version": 3
   },
   "file_extension": ".py",
   "mimetype": "text/x-python",
   "name": "python",
   "nbconvert_exporter": "python",
   "pygments_lexer": "ipython3",
   "version": "3.7.6"
  }
 },
 "nbformat": 4,
 "nbformat_minor": 4
}
