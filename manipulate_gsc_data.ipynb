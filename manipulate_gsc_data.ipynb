{
 "cells": [
  {
   "cell_type": "code",
   "execution_count": 1,
   "metadata": {},
   "outputs": [],
   "source": [
    "import json"
   ]
  },
  {
   "cell_type": "code",
   "execution_count": 2,
   "metadata": {},
   "outputs": [
    {
     "name": "stdout",
     "output_type": "stream",
     "text": [
      "badge_result.zip  last_bow.ipynb\t      sample_result\r\n",
      "composer.py\t  LDA.py\t\t      stopwords.py\r\n",
      "config.py\t  list_of_dup_questions.json  tags_result\r\n",
      "DataExtraction\t  manipulate_gsc_data.ipynb   user_result\r\n",
      "data_files\t  Postlinks_result.zip\t      user_result.zip\r\n",
      "extractor.py\t  preprocessing.py\r\n",
      "-f\t\t  __pycache__\r\n"
     ]
    }
   ],
   "source": [
    "!ls"
   ]
  },
  {
   "cell_type": "code",
   "execution_count": 3,
   "metadata": {},
   "outputs": [
    {
     "name": "stdout",
     "output_type": "stream",
     "text": [
      "0.json\t 13.json  17.json  20.json  24.json  28.json  3.json  7.json\r\n",
      "10.json  14.json  18.json  21.json  25.json  29.json  4.json  8.json\r\n",
      "11.json  15.json  19.json  22.json  26.json  2.json   5.json  9.json\r\n",
      "12.json  16.json  1.json   23.json  27.json  30.json  6.json\r\n"
     ]
    }
   ],
   "source": [
    "!ls data_files/gsc_files"
   ]
  },
  {
   "cell_type": "code",
   "execution_count": 4,
   "metadata": {},
   "outputs": [],
   "source": [
    "pref_path=\"./data_files/super_pp_result/\""
   ]
  },
  {
   "cell_type": "code",
   "execution_count": 5,
   "metadata": {},
   "outputs": [],
   "source": [
    "lb_id=0\n",
    "ub_id=1"
   ]
  },
  {
   "cell_type": "code",
   "execution_count": 6,
   "metadata": {},
   "outputs": [],
   "source": [
    "dups_list=[]\n",
    "dups_cnt=0"
   ]
  },
  {
   "cell_type": "code",
   "execution_count": 7,
   "metadata": {},
   "outputs": [
    {
     "name": "stdout",
     "output_type": "stream",
     "text": [
      "Loaded file with id  0\n",
      "211\n",
      "22840\n",
      "Loaded file with id  1\n",
      "Achieved landmark at file  1\n",
      "488\n",
      "25937\n"
     ]
    }
   ],
   "source": [
    "for curr_file_id in range(lb_id, ub_id+1):\n",
    "    with open(pref_path+f\"post_{curr_file_id}.json\",'r') as fd:\n",
    "        df=json.load(fd)\n",
    "    print(\"Loaded file with id \", curr_file_id)\n",
    "    for key in sorted(df):\n",
    "        num_masters=len(df[key]['dups_list'])\n",
    "        if num_masters!=0:\n",
    "            # its a duplicate\n",
    "            dups_list.append(df[key])\n",
    "            dups_cnt+=1\n",
    "            if dups_cnt==300:\n",
    "                print(\"Achieved landmark at file \", curr_file_id)\n",
    "    print(dups_cnt)\n",
    "    print(len(df))"
   ]
  },
  {
   "cell_type": "code",
   "execution_count": 8,
   "metadata": {},
   "outputs": [],
   "source": [
    "DUP_FILE_NAME=\"./list_of_dup_questions.json\""
   ]
  },
  {
   "cell_type": "code",
   "execution_count": 9,
   "metadata": {},
   "outputs": [
    {
     "data": {
      "text/plain": [
       "488"
      ]
     },
     "execution_count": 9,
     "metadata": {},
     "output_type": "execute_result"
    }
   ],
   "source": [
    "len(dups_list)"
   ]
  },
  {
   "cell_type": "code",
   "execution_count": 10,
   "metadata": {},
   "outputs": [],
   "source": [
    "the_dict={}\n",
    "for curr_elem in dups_list:\n",
    "    the_dict[curr_elem['Id']]=curr_elem"
   ]
  },
  {
   "cell_type": "code",
   "execution_count": 11,
   "metadata": {},
   "outputs": [],
   "source": [
    "with open(DUP_FILE_NAME, 'w') as fd:\n",
    "    json.dump(the_dict, fd)"
   ]
  },
  {
   "cell_type": "code",
   "execution_count": null,
   "metadata": {},
   "outputs": [],
   "source": []
  }
 ],
 "metadata": {
  "kernelspec": {
   "display_name": "Python 3",
   "language": "python",
   "name": "python3"
  },
  "language_info": {
   "codemirror_mode": {
    "name": "ipython",
    "version": 3
   },
   "file_extension": ".py",
   "mimetype": "text/x-python",
   "name": "python",
   "nbconvert_exporter": "python",
   "pygments_lexer": "ipython3",
   "version": "3.7.6"
  }
 },
 "nbformat": 4,
 "nbformat_minor": 4
}
