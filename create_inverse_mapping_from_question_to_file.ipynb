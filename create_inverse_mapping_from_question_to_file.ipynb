{
 "cells": [
  {
   "cell_type": "code",
   "execution_count": 12,
   "metadata": {},
   "outputs": [
    {
     "name": "stdout",
     "output_type": "stream",
     "text": [
      "abalate_0_error.json  default_error.json\t params_models.json\r\n",
      "abalate_1_error.json  extractor.py\t\t Prelimary_analysis.ipynb\r\n",
      "abalation.py\t      jaccard_error.json\t preprocessing.py\r\n",
      "ablate_2_error.json   jaccard_sim_generator.py\t __pycache__\r\n",
      "ablate_3_error.json   jac_training.py\t\t sort_by_scores.ipynb\r\n",
      "composer.py\t      last_bow.ipynb\t\t stopwords.py\r\n",
      "config.py\t      LDA.py\t\t\t test_jsc.py\r\n",
      "DataExtraction\t      manipulate_gsc_data.ipynb  test.py\r\n",
      "data_files\t      params.md\t\t\t vectorize.py\r\n"
     ]
    }
   ],
   "source": [
    "!ls"
   ]
  },
  {
   "cell_type": "code",
   "execution_count": 13,
   "metadata": {},
   "outputs": [],
   "source": [
    "import os\n",
    "from copy import deepcopy\n",
    "import json"
   ]
  },
  {
   "cell_type": "markdown",
   "metadata": {},
   "source": [
    "### Create an inverse mapping from file to q_id"
   ]
  },
  {
   "cell_type": "code",
   "execution_count": 14,
   "metadata": {},
   "outputs": [],
   "source": [
    "q_id_locs=dict()"
   ]
  },
  {
   "cell_type": "code",
   "execution_count": 15,
   "metadata": {},
   "outputs": [],
   "source": [
    "prefix_to_all_details=\"data_files/All_training_files/vectorize_dup_full/\"\n",
    "lb_idx=0\n",
    "ub_idx=49\n",
    "for curr_file_idx in range(lb_idx ,ub_idx+1):\n",
    "    with open(prefix_to_all_details+str(curr_file_idx)+\".json\",'r') as fd:\n",
    "        df=json.load(fd)\n",
    "        for curr_key in df.keys():\n",
    "            q_id_locs[curr_key]=curr_file_idx"
   ]
  },
  {
   "cell_type": "markdown",
   "metadata": {},
   "source": [
    "#### Save the mapping"
   ]
  },
  {
   "cell_type": "code",
   "execution_count": 16,
   "metadata": {},
   "outputs": [],
   "source": [
    "with open(\"./data_files/q_id_to_file_mapping.json\",'w') as fd:\n",
    "    json.dump(q_id_locs,fd, indent=2 )"
   ]
  },
  {
   "cell_type": "code",
   "execution_count": null,
   "metadata": {},
   "outputs": [],
   "source": []
  }
 ],
 "metadata": {
  "kernelspec": {
   "display_name": "Python 3",
   "language": "python",
   "name": "python3"
  },
  "language_info": {
   "codemirror_mode": {
    "name": "ipython",
    "version": 3
   },
   "file_extension": ".py",
   "mimetype": "text/x-python",
   "name": "python",
   "nbconvert_exporter": "python",
   "pygments_lexer": "ipython3",
   "version": "3.7.6"
  }
 },
 "nbformat": 4,
 "nbformat_minor": 4
}
