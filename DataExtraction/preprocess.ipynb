{
 "cells": [
  {
   "cell_type": "code",
   "execution_count": 29,
   "id": "e84b47b4-1915-4319-8564-deeabb1ab101",
   "metadata": {},
   "outputs": [],
   "source": [
    "import json\n",
    "from collections import namedtuple"
   ]
  },
  {
   "cell_type": "code",
   "execution_count": 30,
   "id": "7c7c3ffa-5d78-4e8d-b3c2-e753ce946e9d",
   "metadata": {},
   "outputs": [],
   "source": [
    "file_name = '../data/dup.json'"
   ]
  },
  {
   "cell_type": "code",
   "execution_count": 31,
   "id": "e87c8c03-42bb-4c48-9705-4b850e8e59bb",
   "metadata": {},
   "outputs": [],
   "source": [
    "raw = None\n",
    "with open(file_name) as f:\n",
    "    raw = json.load(f)"
   ]
  },
  {
   "cell_type": "code",
   "execution_count": 55,
   "id": "c9728844-3a5f-40b5-9cf8-12cd497b0fe1",
   "metadata": {},
   "outputs": [],
   "source": [
    "one_object = raw['783926']"
   ]
  },
  {
   "cell_type": "code",
   "execution_count": 56,
   "id": "f8304414-7949-4567-bfc3-f2795fe72763",
   "metadata": {},
   "outputs": [
    {
     "data": {
      "text/plain": [
       "{'AcceptedAnswerId': '783939',\n",
       " 'AnswerCount': '7',\n",
       " 'Body': '<blockquote>\\n  <h2>Duplicate</h2>\\n  \\n  <p><a href=\"http://stackoverflow.com/questions/403539/what-are-extension-methods\">What are Extension Methods?</a><br />\\n  <a href=\"http://stackoverflow.com/questions/403619/usage-of-extension-methods\">Usage of Extension Methods</a><br />\\n  <a href=\"http://stackoverflow.com/questions/487904/what-advantages-of-extension-methods-have-you-found\">What Advantages of Extension Methods have you found?</a>  </p>\\n</blockquote>\\n\\n<p>So I run into the term \"extension-methods\" frequently, when reading about .Net and intellisensing (!) around...</p>\\n\\n<p>What are extension-methods -- and what sets them apart from other methods?</p>\\n',\n",
       " 'CommentCount': '5',\n",
       " 'CreationDate': '2009-04-23T23:10:37.093',\n",
       " 'FavoriteCount': '1',\n",
       " 'Id': '783926',\n",
       " 'LastActivityDate': '2009-04-28T07:01:13.167',\n",
       " 'LastEditDate': '2009-04-23T23:17:21.163',\n",
       " 'LastEditorDisplayName': '',\n",
       " 'LastEditorUserId': '44389',\n",
       " 'OwnerUserId': '77884',\n",
       " 'PostTypeId': '1',\n",
       " 'Score': '0',\n",
       " 'Tags': '<.net><extension-methods>',\n",
       " 'Title': 'What are extension-methods -- and what makes them different from other methods? [Duplicate]',\n",
       " 'ViewCount': '153'}"
      ]
     },
     "execution_count": 56,
     "metadata": {},
     "output_type": "execute_result"
    }
   ],
   "source": [
    "one_object"
   ]
  },
  {
   "cell_type": "code",
   "execution_count": 89,
   "id": "e1dd88cb-29c9-408a-90d2-2435d36913e9",
   "metadata": {},
   "outputs": [],
   "source": [
    "with open('t.json', 'w') as f:\n",
    "    json.dump(one_object, f)"
   ]
  },
  {
   "cell_type": "code",
   "execution_count": null,
   "id": "fa87aff0-09bc-48bd-9b32-78d12c8d1647",
   "metadata": {},
   "outputs": [],
   "source": []
  },
  {
   "cell_type": "code",
   "execution_count": null,
   "id": "a1256f08-35bd-48c8-beb7-6949632742e8",
   "metadata": {},
   "outputs": [],
   "source": []
  },
  {
   "cell_type": "code",
   "execution_count": null,
   "id": "84bbfd43-1b95-42e3-b878-8df3625d9af2",
   "metadata": {},
   "outputs": [],
   "source": []
  },
  {
   "cell_type": "code",
   "execution_count": 87,
   "id": "28e903c0-0b51-4381-854d-a116684827d7",
   "metadata": {},
   "outputs": [
    {
     "data": {
      "text/plain": [
       "True"
      ]
     },
     "execution_count": 87,
     "metadata": {},
     "output_type": "execute_result"
    }
   ],
   "source": [
    "one_object['PostTypeId'] == '1'"
   ]
  },
  {
   "cell_type": "code",
   "execution_count": 6,
   "id": "56384503-1880-48ae-8744-08a5ba01690a",
   "metadata": {},
   "outputs": [],
   "source": [
    "from question import Question, get_question"
   ]
  },
  {
   "cell_type": "code",
   "execution_count": 7,
   "id": "7354e48d-988f-45c1-809b-b49fdf73d562",
   "metadata": {},
   "outputs": [],
   "source": [
    "import re"
   ]
  },
  {
   "cell_type": "code",
   "execution_count": 8,
   "id": "431f2d87-9986-4f5c-a37d-5295a5e2d9ae",
   "metadata": {},
   "outputs": [],
   "source": [
    "def preprocess(q: Question):\n",
    "    new_q = Question(q.__dict__)\n",
    "    new_q = clean(q.body)\n",
    "    return new_q"
   ]
  },
  {
   "cell_type": "code",
   "execution_count": 9,
   "id": "34a574e0-bae5-4494-a54b-180d48a73a0c",
   "metadata": {},
   "outputs": [],
   "source": [
    "HTML_CLEAN = re.compile('<.*?>') \n",
    "WHITESPACE_CLEAN = re.compile('^\\s*|\\s\\s*') \n",
    "\n",
    "def remove_html(raw_html):\n",
    "    return re.sub(HTML_CLEAN, '', raw_html)\n",
    "def remove_whitespace(text):\n",
    "    return re.sub(WHITESPACE_CLEAN, ' ', text).strip()\n",
    "def clean(text):\n",
    "    text = remove_html(text)\n",
    "    text = remove_whitespace(text)\n",
    "    return text\n",
    "    "
   ]
  },
  {
   "cell_type": "code",
   "execution_count": 57,
   "id": "01f3c569-7129-4703-95ef-6a449bbecbbb",
   "metadata": {},
   "outputs": [],
   "source": [
    "q = get_question(one_object)"
   ]
  },
  {
   "cell_type": "code",
   "execution_count": 58,
   "id": "9f411727-cd9d-4b54-8388-1feffe90ecb6",
   "metadata": {},
   "outputs": [
    {
     "data": {
      "text/plain": [
       "Question(qid='783926', body='<blockquote>\\n  <h2>Duplicate</h2>\\n  \\n  <p><a href=\"http://stackoverflow.com/questions/403539/what-are-extension-methods\">What are Extension Methods?</a><br />\\n  <a href=\"http://stackoverflow.com/questions/403619/usage-of-extension-methods\">Usage of Extension Methods</a><br />\\n  <a href=\"http://stackoverflow.com/questions/487904/what-advantages-of-extension-methods-have-you-found\">What Advantages of Extension Methods have you found?</a>  </p>\\n</blockquote>\\n\\n<p>So I run into the term \"extension-methods\" frequently, when reading about .Net and intellisensing (!) around...</p>\\n\\n<p>What are extension-methods -- and what sets them apart from other methods?</p>\\n', creation_date='2009-04-23T23:10:37.093', last_activity_date='2009-04-28T07:01:13.167', last_edit_date='2009-04-23T23:17:21.163', title='What are extension-methods -- and what makes them different from other methods? [Duplicate]', tags=['.net', 'extension-methods'], dups=[])"
      ]
     },
     "execution_count": 58,
     "metadata": {},
     "output_type": "execute_result"
    }
   ],
   "source": [
    "q"
   ]
  },
  {
   "cell_type": "code",
   "execution_count": 37,
   "id": "02d5142f-40e5-4f6b-847f-69f6b8d3aa2f",
   "metadata": {},
   "outputs": [],
   "source": [
    "from bs4 import BeautifulSoup"
   ]
  },
  {
   "cell_type": "code",
   "execution_count": 62,
   "id": "6c53c07e-757f-413e-ba21-d618872a0e14",
   "metadata": {},
   "outputs": [],
   "source": [
    "soup = BeautifulSoup(q.body, 'html.parser')"
   ]
  },
  {
   "cell_type": "code",
   "execution_count": 59,
   "id": "3e0b635f-8a8f-4eb8-8023-2f44a421ae97",
   "metadata": {},
   "outputs": [
    {
     "ename": "AttributeError",
     "evalue": "'NoneType' object has no attribute 'p'",
     "output_type": "error",
     "traceback": [
      "\u001b[0;31m---------------------------------------------------------------------------\u001b[0m",
      "\u001b[0;31mAttributeError\u001b[0m                            Traceback (most recent call last)",
      "\u001b[0;32m/tmp/ipykernel_21937/3449059052.py\u001b[0m in \u001b[0;36m<module>\u001b[0;34m\u001b[0m\n\u001b[0;32m----> 1\u001b[0;31m \u001b[0mlink\u001b[0m \u001b[0;34m=\u001b[0m \u001b[0msoup\u001b[0m\u001b[0;34m.\u001b[0m\u001b[0mblockquote\u001b[0m\u001b[0;34m.\u001b[0m\u001b[0mp\u001b[0m\u001b[0;34m.\u001b[0m\u001b[0ma\u001b[0m\u001b[0;34m.\u001b[0m\u001b[0mget\u001b[0m\u001b[0;34m(\u001b[0m\u001b[0;34m'href'\u001b[0m\u001b[0;34m)\u001b[0m\u001b[0;34m\u001b[0m\u001b[0;34m\u001b[0m\u001b[0m\n\u001b[0m",
      "\u001b[0;31mAttributeError\u001b[0m: 'NoneType' object has no attribute 'p'"
     ]
    }
   ],
   "source": [
    "link = soup.blockquote.p.a.get('href')"
   ]
  },
  {
   "cell_type": "code",
   "execution_count": 45,
   "id": "e1126690-547a-4f9a-ba6f-d2cc896f9a99",
   "metadata": {},
   "outputs": [],
   "source": [
    "soup.blockquote.decompose()"
   ]
  },
  {
   "cell_type": "code",
   "execution_count": 71,
   "id": "ab4ba6e8-614d-4b29-918c-28f2f0e60df6",
   "metadata": {},
   "outputs": [
    {
     "name": "stdout",
     "output_type": "stream",
     "text": [
      "stackoverflow.com\n",
      "stackoverflow.com\n",
      "stackoverflow.com\n"
     ]
    }
   ],
   "source": [
    "for bq in soup.find_all('blockquote'):\n",
    "    for a in bq.find_all('a'):\n",
    "        link = a.get('href')\n",
    "        print(link.split('/')[2])\n",
    "        # print(link)"
   ]
  },
  {
   "cell_type": "code",
   "execution_count": 66,
   "id": "eb1bffc5-ea69-4f71-84cd-1849d6c8bca8",
   "metadata": {},
   "outputs": [
    {
     "data": {
      "text/plain": [
       "'http://stackoverflow.com/questions/403539/what-are-extension-methods'"
      ]
     },
     "execution_count": 66,
     "metadata": {},
     "output_type": "execute_result"
    }
   ],
   "source": [
    "soup.blockquote.find_all('a')[0].get('href')"
   ]
  },
  {
   "cell_type": "code",
   "execution_count": 18,
   "id": "13a67bcb-d8a3-454f-b917-2e82b1833df0",
   "metadata": {},
   "outputs": [
    {
     "data": {
      "text/plain": [
       "['http:',\n",
       " '',\n",
       " 'stackoverflow.com',\n",
       " 'questions',\n",
       " '163434',\n",
       " 'are-nulls-in-a-relational-database-okay']"
      ]
     },
     "execution_count": 18,
     "metadata": {},
     "output_type": "execute_result"
    }
   ],
   "source": [
    "link.split('/')"
   ]
  },
  {
   "cell_type": "code",
   "execution_count": 19,
   "id": "1eb89e18-c9a3-4210-ae58-4b1fa0e85aca",
   "metadata": {},
   "outputs": [],
   "source": [
    "splits = link.split('/')"
   ]
  },
  {
   "cell_type": "code",
   "execution_count": 23,
   "id": "4d577eeb-c73c-41f0-941a-31656817610d",
   "metadata": {},
   "outputs": [
    {
     "data": {
      "text/plain": [
       "'163434'"
      ]
     },
     "execution_count": 23,
     "metadata": {},
     "output_type": "execute_result"
    }
   ],
   "source": [
    "splits[4]"
   ]
  },
  {
   "cell_type": "code",
   "execution_count": 25,
   "id": "2be725e9-8e61-4980-ba67-1c33900de42d",
   "metadata": {},
   "outputs": [
    {
     "name": "stdout",
     "output_type": "stream",
     "text": [
      "Hi\n"
     ]
    }
   ],
   "source": [
    "try:\n",
    "    x = splits[100]\n",
    "except Exception:\n",
    "    print(\"Hi\")"
   ]
  },
  {
   "cell_type": "code",
   "execution_count": null,
   "id": "af3764d6-bc21-4e1c-8b63-9e46c07fb922",
   "metadata": {},
   "outputs": [],
   "source": []
  },
  {
   "cell_type": "code",
   "execution_count": 26,
   "id": "00f68d8c-6097-428f-acda-0b55c0117373",
   "metadata": {},
   "outputs": [],
   "source": [
    "st = 'asdfa'"
   ]
  },
  {
   "cell_type": "code",
   "execution_count": 27,
   "id": "55f17dda-5f65-4e57-914c-6578bae3eaf2",
   "metadata": {},
   "outputs": [
    {
     "data": {
      "text/plain": [
       "'asdfa'"
      ]
     },
     "execution_count": 27,
     "metadata": {},
     "output_type": "execute_result"
    }
   ],
   "source": [
    "st[-5:]"
   ]
  },
  {
   "cell_type": "code",
   "execution_count": 21,
   "id": "b915dd46-369a-4058-945b-4e157730b4ff",
   "metadata": {},
   "outputs": [
    {
     "data": {
      "text/plain": [
       "[<a href=\"http://stackoverflow.com/questions/163434/are-nulls-in-a-relational-database-okay\">http://stackoverflow.com/questions/163434/are-nulls-in-a-relational-database-okay</a>]"
      ]
     },
     "execution_count": 21,
     "metadata": {},
     "output_type": "execute_result"
    }
   ],
   "source": [
    "soup.find_all('a')"
   ]
  },
  {
   "cell_type": "code",
   "execution_count": null,
   "id": "3f2ecd13-2b6b-40f6-8e9e-6e82e2042a4e",
   "metadata": {},
   "outputs": [],
   "source": [
    "for blockquote in soup.find_all('blockquote'):\n",
    "    if blockquote.p.text[:9] == 'Duplicate':\n",
    "        for a in blockquote.p.find_all('a'):\n",
    "            \n",
    "        \n",
    "        break\n",
    "    "
   ]
  },
  {
   "cell_type": "code",
   "execution_count": 85,
   "id": "cde77bf7-10ee-467e-93da-56d2239cd318",
   "metadata": {},
   "outputs": [],
   "source": [
    "from preprocess import preprocess"
   ]
  },
  {
   "cell_type": "code",
   "execution_count": 86,
   "id": "95e7b66f-f709-40b1-98fc-06329f7cc86f",
   "metadata": {},
   "outputs": [
    {
     "data": {
      "text/plain": [
       "Question(qid='4', body=\"I'm new to C# and I want to use a track-bar to change a form's opacity. This is my code: decimal trans = trackBar1.Value / 5000; this.Opacity = trans; When I try to build it, I get this error: Cannot implicitly convert type 'decimal' to 'double' I tried making trans a double, but then the control doesn't work. This code worked fine for me in VB.NET. What do I need to do differently?\", creation_date='2008-07-31T21:42:52.667', last_activity_date='2012-07-24T16:45:40.937', last_edit_date='2012-05-04T08:55:46.677', title=\"When setting a form's opacity should I use a decimal or double?\", tags=['c#', 'winforms', 'forms', 'type-conversion', 'opacity'], dups=[])"
      ]
     },
     "execution_count": 86,
     "metadata": {},
     "output_type": "execute_result"
    }
   ],
   "source": [
    "preprocess(one_object)"
   ]
  },
  {
   "cell_type": "code",
   "execution_count": 77,
   "id": "b0fae47b-4078-4eeb-ba55-95cf49449e24",
   "metadata": {},
   "outputs": [
    {
     "data": {
      "text/plain": [
       "{'AcceptedAnswerId': '777721',\n",
       " 'AnswerCount': '4',\n",
       " 'Body': '<blockquote>\\n  <p>Duplicate:\\n  <a href=\"http://stackoverflow.com/questions/163434/are-nulls-in-a-relational-database-okay\">http://stackoverflow.com/questions/163434/are-nulls-in-a-relational-database-okay</a></p>\\n</blockquote>\\n\\n<p>I dodged a heated debate concerning nulls in the database today.\\nMy opinion is that null is an excellent indicator of unspecified values. Every one else in the team, that has an opinion, thinks zero and empty strings are the way to go.</p>\\n\\n<p>Are they lazy or am I to strict?</p>\\n',\n",
       " 'CommentCount': '1',\n",
       " 'CreationDate': '2009-04-22T15:07:54.137',\n",
       " 'Id': '777711',\n",
       " 'LastActivityDate': '2009-04-22T15:11:00.667',\n",
       " 'LastEditDate': '2009-04-22T15:10:22.710',\n",
       " 'LastEditorDisplayName': '',\n",
       " 'LastEditorUserId': '44389',\n",
       " 'OwnerUserId': '21761',\n",
       " 'PostTypeId': '1',\n",
       " 'Score': '0',\n",
       " 'Tags': '<asp.net><sql><database><null>',\n",
       " 'Title': 'Is null harmful? [Duplicate]',\n",
       " 'ViewCount': '175'}"
      ]
     },
     "execution_count": 77,
     "metadata": {},
     "output_type": "execute_result"
    }
   ],
   "source": [
    "one_object"
   ]
  },
  {
   "cell_type": "code",
   "execution_count": null,
   "id": "0cfb7a6c-01ee-4e64-82f3-9e2a3edf7a86",
   "metadata": {},
   "outputs": [],
   "source": []
  },
  {
   "cell_type": "code",
   "execution_count": null,
   "id": "49607fb0-f8cd-4783-ac24-5e74c7ea9b2e",
   "metadata": {},
   "outputs": [],
   "source": []
  },
  {
   "cell_type": "code",
   "execution_count": null,
   "id": "41db4faa-f0ab-4c5c-bb4d-aaba9485eac3",
   "metadata": {},
   "outputs": [],
   "source": []
  }
 ],
 "metadata": {
  "kernelspec": {
   "display_name": "Python 3 (ipykernel)",
   "language": "python",
   "name": "python3"
  },
  "language_info": {
   "codemirror_mode": {
    "name": "ipython",
    "version": 3
   },
   "file_extension": ".py",
   "mimetype": "text/x-python",
   "name": "python",
   "nbconvert_exporter": "python",
   "pygments_lexer": "ipython3",
   "version": "3.9.7"
  }
 },
 "nbformat": 4,
 "nbformat_minor": 5
}
