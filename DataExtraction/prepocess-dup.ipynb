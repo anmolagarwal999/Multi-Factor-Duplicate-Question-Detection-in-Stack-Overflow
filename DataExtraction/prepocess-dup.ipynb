{
 "cells": [
  {
   "cell_type": "code",
   "execution_count": 5,
   "id": "7e9ce60e-bee3-43e5-bb41-5fc988cde02c",
   "metadata": {},
   "outputs": [],
   "source": [
    "import os\n",
    "import json"
   ]
  },
  {
   "cell_type": "code",
   "execution_count": 6,
   "id": "00c3508e-ac34-4599-a8a7-8e1ed73d1e29",
   "metadata": {},
   "outputs": [],
   "source": [
    "links_dir = '../data/Postlinks_result/'"
   ]
  },
  {
   "cell_type": "code",
   "execution_count": 9,
   "id": "93a8c4bd-afdc-411f-ab18-7b5c4e813c6e",
   "metadata": {},
   "outputs": [],
   "source": [
    "file_name = os.path.join(links_dir, 'post_0.json')"
   ]
  },
  {
   "cell_type": "code",
   "execution_count": 10,
   "id": "ad38d986-aa47-42ae-8819-433bfa4ec2c7",
   "metadata": {},
   "outputs": [
    {
     "data": {
      "text/plain": [
       "'../data/Postlinks_result/post_0.json'"
      ]
     },
     "execution_count": 10,
     "metadata": {},
     "output_type": "execute_result"
    }
   ],
   "source": [
    "file_name"
   ]
  },
  {
   "cell_type": "code",
   "execution_count": 11,
   "id": "ce1096c6-f970-4e2d-84d9-2adff68f9a5c",
   "metadata": {},
   "outputs": [],
   "source": [
    "raw = None\n",
    "with open(file_name, 'r') as f:\n",
    "    raw = json.load(f)"
   ]
  },
  {
   "cell_type": "code",
   "execution_count": 13,
   "id": "48ee6f9d-bec5-486b-9387-513a3c3fe966",
   "metadata": {},
   "outputs": [],
   "source": [
    "dup_links = [link for link in raw.values() if link['LinkTypeId'] == '3']"
   ]
  },
  {
   "cell_type": "code",
   "execution_count": 16,
   "id": "3f454e7f-953e-4688-8c61-ff9d54808a5b",
   "metadata": {},
   "outputs": [],
   "source": [
    "relations = {}"
   ]
  },
  {
   "cell_type": "code",
   "execution_count": 17,
   "id": "4498f1a9-64ed-4029-a612-ca0e5a34884a",
   "metadata": {},
   "outputs": [],
   "source": [
    "for link in dup_links:\n",
    "    parent_id = int(link['RelatedPostId'])\n",
    "    child_id = int(link['Id'])\n",
    "    \n",
    "    for _id in [parent_id, child_id]:\n",
    "        if _id not in relations.keys():\n",
    "            relations[_id] = {'ChildOf': [], 'ParentOf': []}\n",
    "    relations[parent_id]['ParentOf'].append(child_id)\n",
    "    relations[child_id]['ChildOf'].append(parent_id)"
   ]
  },
  {
   "cell_type": "code",
   "execution_count": 19,
   "id": "66d30809-f2ad-44ec-a2e9-f7793408685f",
   "metadata": {},
   "outputs": [],
   "source": [
    "relations_dir = '../data/Relations/'"
   ]
  },
  {
   "cell_type": "code",
   "execution_count": 20,
   "id": "50c1a72c-0a41-4452-8287-0f6160f6a7ac",
   "metadata": {},
   "outputs": [],
   "source": [
    "os.mkdir(relations_dir)"
   ]
  },
  {
   "cell_type": "code",
   "execution_count": 21,
   "id": "635c13ea-7654-4ad6-a822-2f45b9fabb98",
   "metadata": {},
   "outputs": [],
   "source": [
    "import glob"
   ]
  },
  {
   "cell_type": "code",
   "execution_count": 22,
   "id": "93da5581-08de-4bd3-8f79-ff77bb0cf8d7",
   "metadata": {},
   "outputs": [],
   "source": [
    "files = glob.glob(os.path.join(links_dir, '*.json'))"
   ]
  },
  {
   "cell_type": "code",
   "execution_count": null,
   "id": "117a7c64-19a0-4e29-9c37-27a6a5210c92",
   "metadata": {},
   "outputs": [],
   "source": []
  },
  {
   "cell_type": "code",
   "execution_count": 30,
   "id": "e9f6ed99-367d-4445-a15f-ffc04dc9e6f2",
   "metadata": {},
   "outputs": [],
   "source": [
    "# Filter links\n",
    "link = dup_links[0]\n",
    "from datetime import datetime"
   ]
  },
  {
   "cell_type": "code",
   "execution_count": 33,
   "id": "12ee0340-91fe-4542-9e9c-8f886f62a84e",
   "metadata": {},
   "outputs": [
    {
     "data": {
      "text/plain": [
       "'2013-02-18T03:03:16.917'"
      ]
     },
     "execution_count": 33,
     "metadata": {},
     "output_type": "execute_result"
    }
   ],
   "source": [
    "link['CreationDate']"
   ]
  },
  {
   "cell_type": "code",
   "execution_count": 25,
   "id": "2f695369-6965-44a2-b047-06392a8eb7bd",
   "metadata": {},
   "outputs": [],
   "source": [
    "relations = {}\n",
    "for file in files:\n",
    "    raw = None\n",
    "    with open(file,'r') as f:\n",
    "        raw = json.load(f)\n",
    "    for link in raw.values():\n",
    "        if link['LinkTypeId'] != '3':\n",
    "            continue\n",
    "        parent_id = int(link['RelatedPostId'])\n",
    "        child_id = int(link['Id'])\n",
    "        for _id in [parent_id, child_id]:\n",
    "            if _id not in relations.keys():\n",
    "                relations[_id] = {'ChildOf': set(), 'ParentOf': set()}\n",
    "        relations[parent_id]['ParentOf'].add(child_id)\n",
    "        relations[child_id]['ChildOf'].add(parent_id)"
   ]
  },
  {
   "cell_type": "code",
   "execution_count": 26,
   "id": "2250e6d2-bd50-416f-bf78-dfc8a7010ddb",
   "metadata": {},
   "outputs": [
    {
     "data": {
      "text/plain": [
       "1630623"
      ]
     },
     "execution_count": 26,
     "metadata": {},
     "output_type": "execute_result"
    }
   ],
   "source": [
    "len(relations.keys())"
   ]
  },
  {
   "cell_type": "code",
   "execution_count": null,
   "id": "1fd14797-e9ee-4a44-81b7-38af83a6e850",
   "metadata": {},
   "outputs": [],
   "source": []
  },
  {
   "cell_type": "code",
   "execution_count": 17,
   "id": "2f4b71a9-956f-41cf-924b-257fbc99fa28",
   "metadata": {},
   "outputs": [],
   "source": [
    "a = set()"
   ]
  },
  {
   "cell_type": "code",
   "execution_count": 18,
   "id": "e2898e71-0cdf-457e-bf57-6abc4b86199b",
   "metadata": {},
   "outputs": [],
   "source": [
    "a.add(1)"
   ]
  },
  {
   "cell_type": "code",
   "execution_count": 19,
   "id": "964d896f-2b01-4057-be91-8eafca323ddf",
   "metadata": {},
   "outputs": [
    {
     "data": {
      "text/plain": [
       "{1}"
      ]
     },
     "execution_count": 19,
     "metadata": {},
     "output_type": "execute_result"
    }
   ],
   "source": [
    "a"
   ]
  },
  {
   "cell_type": "code",
   "execution_count": 34,
   "id": "377cae5e-8b4d-471b-8ad4-105c51e324fc",
   "metadata": {},
   "outputs": [],
   "source": [
    "import json"
   ]
  },
  {
   "cell_type": "code",
   "execution_count": 36,
   "id": "e25f0e23-3c2b-4d39-a150-ca7061d97a8d",
   "metadata": {},
   "outputs": [],
   "source": [
    "cd = link['CreationDate']"
   ]
  },
  {
   "cell_type": "code",
   "execution_count": 37,
   "id": "0d2cce83-489d-4627-b69a-bd3dcceb9ecc",
   "metadata": {},
   "outputs": [
    {
     "data": {
      "text/plain": [
       "'2013-02-18T03:03:16.917'"
      ]
     },
     "execution_count": 37,
     "metadata": {},
     "output_type": "execute_result"
    }
   ],
   "source": [
    "cd"
   ]
  },
  {
   "cell_type": "code",
   "execution_count": 39,
   "id": "516f3c7d-1221-4589-a13b-0fefaae44b4a",
   "metadata": {},
   "outputs": [
    {
     "name": "stdout",
     "output_type": "stream",
     "text": [
      "Requirement already satisfied: python-dateutil in /home/gsc2001/miniconda3/envs/smai/lib/python3.9/site-packages (2.8.2)\n",
      "Requirement already satisfied: six>=1.5 in /home/gsc2001/miniconda3/envs/smai/lib/python3.9/site-packages (from python-dateutil) (1.16.0)\n"
     ]
    }
   ],
   "source": []
  },
  {
   "cell_type": "code",
   "execution_count": null,
   "id": "2142343e-66c0-45df-8ea0-cd4d3b6ed15e",
   "metadata": {},
   "outputs": [],
   "source": []
  },
  {
   "cell_type": "code",
   "execution_count": null,
   "id": "e0ce65bf-69c5-41c3-9ad0-9b5539545f09",
   "metadata": {},
   "outputs": [],
   "source": []
  },
  {
   "cell_type": "code",
   "execution_count": null,
   "id": "728b0df8-2bfc-422a-a8c2-d257f8fac8b8",
   "metadata": {},
   "outputs": [],
   "source": []
  },
  {
   "cell_type": "code",
   "execution_count": null,
   "id": "fd619bcd-3f20-4644-8102-4ef716480c81",
   "metadata": {},
   "outputs": [],
   "source": [
    "prev = -1\n",
    "for i in range(103):\n",
    "    with open('../data/cleaned_pp_result/post_{}.json'.format(i)) as f:\n",
    "        st\n",
    "    "
   ]
  }
 ],
 "metadata": {
  "kernelspec": {
   "display_name": "Python 3 (ipykernel)",
   "language": "python",
   "name": "python3"
  },
  "language_info": {
   "codemirror_mode": {
    "name": "ipython",
    "version": 3
   },
   "file_extension": ".py",
   "mimetype": "text/x-python",
   "name": "python",
   "nbconvert_exporter": "python",
   "pygments_lexer": "ipython3",
   "version": "3.9.7"
  }
 },
 "nbformat": 4,
 "nbformat_minor": 5
}
