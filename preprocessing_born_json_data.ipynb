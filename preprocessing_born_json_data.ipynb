{
 "cells": [
  {
   "cell_type": "code",
   "execution_count": 67,
   "metadata": {},
   "outputs": [],
   "source": [
    "import os\n",
    "import json\n",
    "import re\n",
    "from preprocessing import Preprocess as preprocess_class\n",
    "from copy import deepcopy"
   ]
  },
  {
   "cell_type": "code",
   "execution_count": 68,
   "metadata": {},
   "outputs": [],
   "source": [
    "preprocess_object=preprocess_class()"
   ]
  },
  {
   "cell_type": "markdown",
   "metadata": {},
   "source": [
    "### Decide the input and output paths"
   ]
  },
  {
   "cell_type": "code",
   "execution_count": 69,
   "metadata": {},
   "outputs": [],
   "source": [
    "PREFIX_FILE_PATH=\"data_files/pp_nov_28/result/\"\n",
    "PREFIX_OUTPUT_FILE_PATH=\"data_files/cleaned_pp_nov_28/\""
   ]
  },
  {
   "cell_type": "code",
   "execution_count": 70,
   "metadata": {},
   "outputs": [],
   "source": [
    "lb_file_idx=0\n",
    "ub_file_idx=102"
   ]
  },
  {
   "cell_type": "markdown",
   "metadata": {},
   "source": [
    "### To clean self-closing tags and both closing tags from URL"
   ]
  },
  {
   "cell_type": "code",
   "execution_count": 71,
   "metadata": {},
   "outputs": [],
   "source": [
    "#https://stackoverflow.com/a/11229866\n",
    "self_contained_ref_regex=r\"<[^>]*>\"\n",
    "self_contained_ref_pattern=re.compile(self_contained_ref_regex)\n",
    "\n",
    "def clean_tags_prevent_content(curr_text):\n",
    "    curr_text=self_contained_ref_pattern.sub(\" \",curr_text)\n",
    "    return curr_text"
   ]
  },
  {
   "cell_type": "markdown",
   "metadata": {},
   "source": [
    "##### Tests"
   ]
  },
  {
   "cell_type": "code",
   "execution_count": 72,
   "metadata": {},
   "outputs": [],
   "source": [
    "tc_cases=[\"< Hello> There </Hello>\",\n",
    "            \"billy butcher\",\n",
    "              \"<Doncaster/>\"\n",
    "            ]"
   ]
  },
  {
   "cell_type": "code",
   "execution_count": 73,
   "metadata": {},
   "outputs": [
    {
     "name": "stdout",
     "output_type": "stream",
     "text": [
      "tc is  < Hello> There </Hello>\n",
      "Output  is    There  \n",
      "**********\n",
      "tc is  billy butcher\n",
      "Output  is  billy butcher\n",
      "**********\n",
      "tc is  <Doncaster/>\n",
      "Output  is   \n",
      "**********\n"
     ]
    }
   ],
   "source": [
    "for curr_tc in tc_cases:\n",
    "    print(\"tc is \",curr_tc)\n",
    "    print(\"Output  is \",clean_tags_prevent_content(curr_tc) )\n",
    "    print(\"**********\")"
   ]
  },
  {
   "cell_type": "markdown",
   "metadata": {},
   "source": [
    "### Cleaning newlines and tabs"
   ]
  },
  {
   "cell_type": "code",
   "execution_count": 74,
   "metadata": {},
   "outputs": [],
   "source": [
    "def clean_newline_stuff(curr_text):\n",
    "    curr_text=curr_text.replace(\"\\n\",\"\")\n",
    "    curr_text=curr_text.replace(\"\\t\",\"\")\n",
    "    return curr_text"
   ]
  },
  {
   "cell_type": "markdown",
   "metadata": {},
   "source": [
    "#### Fetching question tags"
   ]
  },
  {
   "cell_type": "code",
   "execution_count": 75,
   "metadata": {},
   "outputs": [],
   "source": [
    "def fetch_tags_list(tag_text):\n",
    "    arr=tag_text.split(\">\")\n",
    "    arr=list(filter(lambda x:x!=\"\",arr))\n",
    "    arr=[x[1:] for x in arr]\n",
    "    return arr"
   ]
  },
  {
   "cell_type": "code",
   "execution_count": 76,
   "metadata": {},
   "outputs": [],
   "source": [
    "tc_cases=['<performance><unix><awk><aix>',\n",
    "            '<c#><exception><error-handling>',\n",
    "              \"<Doncaster>\"\n",
    "            ]"
   ]
  },
  {
   "cell_type": "code",
   "execution_count": 77,
   "metadata": {},
   "outputs": [
    {
     "name": "stdout",
     "output_type": "stream",
     "text": [
      "tc is  <performance><unix><awk><aix>\n",
      "Output  is  ['performance', 'unix', 'awk', 'aix']\n",
      "**********\n",
      "tc is  <c#><exception><error-handling>\n",
      "Output  is  ['c#', 'exception', 'error-handling']\n",
      "**********\n",
      "tc is  <Doncaster>\n",
      "Output  is  ['Doncaster']\n",
      "**********\n"
     ]
    }
   ],
   "source": [
    "for curr_tc in tc_cases:\n",
    "    print(\"tc is \",curr_tc)\n",
    "    print(\"Output  is \",fetch_tags_list(curr_tc) )\n",
    "    print(\"**********\")"
   ]
  },
  {
   "cell_type": "markdown",
   "metadata": {},
   "source": [
    "### Removing all variations of the word \"DUPLICATE\" from title"
   ]
  },
  {
   "cell_type": "code",
   "execution_count": 78,
   "metadata": {},
   "outputs": [
    {
     "name": "stdout",
     "output_type": "stream",
     "text": [
      "abcd [  duplicaTe] fghi j \n",
      "['[  duplicaTe]']\n",
      "Rem part is  abcd   fghi j \n",
      "##########\n",
      "[   duplicaTE       ]\n",
      "['[   duplicaTE       ]']\n",
      "Rem part is   \n",
      "##########\n",
      "[duplicaTE]\n",
      "['[duplicaTE]']\n",
      "Rem part is   \n",
      "##########\n",
      "abcdef [duplicaTE] dupl sis os\n",
      "['[duplicaTE]']\n",
      "Rem part is  abcdef   dupl sis os\n",
      "##########\n",
      "skjsis9\n",
      "[]\n",
      "Rem part is  skjsis9\n",
      "##########\n",
      "Is null harmful? [Duplicate]\n",
      "['[Duplicate]']\n",
      "Rem part is  Is null harmful?  \n",
      "##########\n"
     ]
    }
   ],
   "source": [
    "test_dup_reg=re.compile(r\"\\[\\s*duplicate\\s*\\]\", re.IGNORECASE)\n",
    "testing_dup_title_string=[\"abcd [  duplicaTe] fghi j \"\n",
    "                            ,\"[   duplicaTE       ]\"\n",
    "                             ,\"[duplicaTE]\"\n",
    "                          ,\"abcdef [duplicaTE] dupl sis os\"        ,\n",
    "                          \"skjsis9\",\n",
    "                          \"Is null harmful? [Duplicate]\"\n",
    "                         ]\n",
    "\n",
    "#dup_regex = re.compile(\"duplicate\", re.IGNORECASE)\n",
    "def rem_dup(text):\n",
    "    return test_dup_reg.sub(\" \", text)\n",
    "\n",
    "for curr_tc in testing_dup_title_string:\n",
    "    matches=test_dup_reg.findall(curr_tc)\n",
    "    print(curr_tc)\n",
    "    print(matches)\n",
    "    print(\"Rem part is \", rem_dup(curr_tc))\n",
    "    print(\"##########\")"
   ]
  },
  {
   "cell_type": "code",
   "execution_count": null,
   "metadata": {},
   "outputs": [],
   "source": []
  },
  {
   "cell_type": "markdown",
   "metadata": {},
   "source": [
    "### Removing \"code\"/blockquote tag and the content inside it"
   ]
  },
  {
   "cell_type": "code",
   "execution_count": 79,
   "metadata": {},
   "outputs": [],
   "source": [
    "code_paired_refs_regex=r\"<code((.|\\n)*?)<\\/code>\"\n",
    "code_paired_refs_pattern=re.compile(code_paired_refs_regex)\n",
    "def rem_code(text):\n",
    "    return code_paired_refs_pattern.sub(\" \", text)"
   ]
  },
  {
   "cell_type": "markdown",
   "metadata": {},
   "source": [
    "##### test code block removal"
   ]
  },
  {
   "cell_type": "code",
   "execution_count": 80,
   "metadata": {},
   "outputs": [],
   "source": [
    "tc=[\"<p>I'm new to C# and I want to use a track-bar to change a form's opacity\\\n",
    "            .</p>\\n\\n<p>This is my code:</p>\\n\\n<pre>\\\n",
    "        <code>decimal trans = trackBar1.Value / 5000;\\nthis.Opacity = trans;\\n</code>\\\n",
    "                </pre>\\n\\n<p>When I try to build it, I get this error:</p>\\n\\n<blockquote>\\n  <p>Cannot implicitly convert type 'decimal' to 'double'</p>\\n</blockquote>\\n\\n<p>I tried making\\ <code>trans</code> \\\n",
    "    a double, but then the control doesn't work. This code worked fine for me in VB.NET. </p>\\n\\n<p>What do I need to do differently?</p>\\n\",\n",
    "    \"<code>decimal trans = trackBar1.Value / 5000;\\nthis.Opacity = trans;\\n</code>\",\n",
    "    \"Homelander <code> Hi Hi </code> Bi <code>Hello there</code>\"\n",
    "   ]"
   ]
  },
  {
   "cell_type": "code",
   "execution_count": 81,
   "metadata": {},
   "outputs": [
    {
     "name": "stdout",
     "output_type": "stream",
     "text": [
      "<p>I'm new to C# and I want to use a track-bar to change a form's opacity            .</p>\n",
      "\n",
      "<p>This is my code:</p>\n",
      "\n",
      "<pre>        <code>decimal trans = trackBar1.Value / 5000;\n",
      "this.Opacity = trans;\n",
      "</code>                </pre>\n",
      "\n",
      "<p>When I try to build it, I get this error:</p>\n",
      "\n",
      "<blockquote>\n",
      "  <p>Cannot implicitly convert type 'decimal' to 'double'</p>\n",
      "</blockquote>\n",
      "\n",
      "<p>I tried making\\ <code>trans</code>     a double, but then the control doesn't work. This code worked fine for me in VB.NET. </p>\n",
      "\n",
      "<p>What do I need to do differently?</p>\n",
      "\n",
      ":::::::::\n",
      "<p>I'm new to C# and I want to use a track-bar to change a form's opacity            .</p>\n",
      "\n",
      "<p>This is my code:</p>\n",
      "\n",
      "<pre>                         </pre>\n",
      "\n",
      "<p>When I try to build it, I get this error:</p>\n",
      "\n",
      "<blockquote>\n",
      "  <p>Cannot implicitly convert type 'decimal' to 'double'</p>\n",
      "</blockquote>\n",
      "\n",
      "<p>I tried making\\       a double, but then the control doesn't work. This code worked fine for me in VB.NET. </p>\n",
      "\n",
      "<p>What do I need to do differently?</p>\n",
      "\n",
      "##################################\n",
      "<code>decimal trans = trackBar1.Value / 5000;\n",
      "this.Opacity = trans;\n",
      "</code>\n",
      ":::::::::\n",
      " \n",
      "##################################\n",
      "Homelander <code> Hi Hi </code> Bi <code>Hello there</code>\n",
      ":::::::::\n",
      "Homelander   Bi  \n",
      "##################################\n"
     ]
    }
   ],
   "source": [
    "for curr_tc in tc:\n",
    "    print(curr_tc)\n",
    "    print(\":::::::::\")\n",
    "    print(rem_code(curr_tc))\n",
    "    print(\"##################################\")"
   ]
  },
  {
   "cell_type": "markdown",
   "metadata": {},
   "source": [
    "##### -----------"
   ]
  },
  {
   "cell_type": "code",
   "execution_count": 82,
   "metadata": {},
   "outputs": [],
   "source": [
    "url_regex = r\"(?i)\\b((?:https?://|www\\d{0,3}[.]|[a-z0-9.\\-]+[.][a-z]{2,4}/)(?:[^\\s()<>]+|\\(([^\\s()<>]+|(\\([^\\s()<>]+\\)))*\\))+(?:\\(([^\\s()<>]+|(\\([^\\s()<>]+\\)))*\\)|[^\\s`!()\\[\\]{};:'\\\".,<>?«»“”‘’]))\"\n",
    "def fetch_urls(curr_str):\n",
    "    url_matches = re.findall(url_regex,curr_str)      \n",
    "    return [x[0] for x in url_matches]"
   ]
  },
  {
   "cell_type": "code",
   "execution_count": 83,
   "metadata": {},
   "outputs": [],
   "source": [
    "blockquote_paired_refs_regex=r\"<blockquote((.|\\n)*?)<\\/blockquote>\"\n",
    "blockquote_paired_refs_pattern=re.compile(blockquote_paired_refs_regex)\n",
    "def rem_blockquote(text):\n",
    "    #print(\"num is : \",len(fetch_urls(text)))\n",
    "    if len(fetch_urls(text))>0:\n",
    "        return blockquote_paired_refs_pattern.sub(\" \", text)\n",
    "    else:\n",
    "        return text"
   ]
  },
  {
   "cell_type": "code",
   "execution_count": 84,
   "metadata": {},
   "outputs": [
    {
     "name": "stdout",
     "output_type": "stream",
     "text": [
      "<blockquote>\n",
      "  <h2>Duplicate</h2>\n",
      "  \n",
      "  <p><a href=\"http://stackoverflow.com/questions/403539/what-are-extension-methods\">What are Extension Methods?</a><br />\n",
      "  <a href=\"http://stackoverflow.com/questions/403619/usage-of-extension-methods\">Usage of Extension Methods</a><br />\n",
      "  <a href=\"http://stackoverflow.com/questions/487904/what-advantages-of-extension-methods-have-you-found\">What Advantages of Extension Methods have you found?</a>  </p>\n",
      "</blockquote>\n",
      "\n",
      ":::::::::\n",
      "ans is :   \n",
      "\n",
      "##################################\n",
      "<blockquote>\n",
      "  <p>Cannot implicitly convert type 'decimal' to 'double'</p>\n",
      "</blockquote>\n",
      ":::::::::\n",
      "ans is :  <blockquote>\n",
      "  <p>Cannot implicitly convert type 'decimal' to 'double'</p>\n",
      "</blockquote>\n",
      "##################################\n",
      "<blockquote>\n",
      "  <p>Duplicate:\n",
      "  <a href=\"http://stackoverflow.com/questions/163434/are-nulls-in-a-relational-database-okay\">http://stackoverflow.com/questions/163434/are-nulls-in-a-relational-database-okay</a></p>\n",
      "</blockquote>\n",
      "\n",
      ":::::::::\n",
      "ans is :   \n",
      "\n",
      "##################################\n"
     ]
    }
   ],
   "source": [
    "tc=['<blockquote>\\n  <h2>Duplicate</h2>\\n  \\n  <p><a href=\\\"http://stackoverflow.com/questions/403539/what-are-extension-methods\\\">What are Extension Methods?</a><br />\\n  <a href=\\\"http://stackoverflow.com/questions/403619/usage-of-extension-methods\\\">Usage of Extension Methods</a><br />\\n  <a href=\\\"http://stackoverflow.com/questions/487904/what-advantages-of-extension-methods-have-you-found\\\">What Advantages of Extension Methods have you found?</a>  </p>\\n</blockquote>\\n',\n",
    "   \"<blockquote>\\n  <p>Cannot implicitly convert type 'decimal' to 'double'</p>\\n</blockquote>\",\n",
    "   \"<blockquote>\\n  <p>Duplicate:\\n  <a href=\\\"http://stackoverflow.com/questions/163434/are-nulls-in-a-relational-database-okay\\\">http://stackoverflow.com/questions/163434/are-nulls-in-a-relational-database-okay</a></p>\\n</blockquote>\\n\"]\n",
    "for curr_tc in tc:\n",
    "    print(curr_tc)\n",
    "    print(\":::::::::\")\n",
    "    print(\"ans is : \",rem_blockquote(curr_tc))\n",
    "    print(\"##################################\")\n"
   ]
  },
  {
   "cell_type": "markdown",
   "metadata": {},
   "source": [
    "## ========================================================="
   ]
  },
  {
   "cell_type": "code",
   "execution_count": 85,
   "metadata": {},
   "outputs": [],
   "source": [
    "def fetch_question_satisfying_a_condition(fn):\n",
    "    ans=None\n",
    "    for file_id in range(lb_file_idx, ub_file_idx+1):\n",
    "        if ans!=None:\n",
    "            break\n",
    "        print(\"Starting file with id: \", file_id)\n",
    "        with open(PREFIX_FILE_PATH+f\"/post_{file_id}.json\",'r') as fd:\n",
    "            df=json.load(fd)\n",
    "        new_df=dict()\n",
    "        for curr_key, curr_val in df.items():\n",
    "            # we do not want to process answers\n",
    "            if curr_val[\"PostTypeId\"]!=\"1\":\n",
    "                continue\n",
    "            if fn(curr_val):\n",
    "                ans=deepcopy(curr_val)\n",
    "                print(\"Found\")\n",
    "                break\n",
    "    return ans"
   ]
  },
  {
   "cell_type": "code",
   "execution_count": 86,
   "metadata": {},
   "outputs": [],
   "source": [
    "def code_tag_in_body(curr_obj):\n",
    "    all_matches=code_paired_refs_pattern.findall(curr_obj['Body'])\n",
    "    return len(all_matches)>0"
   ]
  },
  {
   "cell_type": "code",
   "execution_count": 87,
   "metadata": {},
   "outputs": [],
   "source": [
    "def blockquote_tag_in_body(curr_obj):\n",
    "    all_matches=blockquote_paired_refs_pattern.findall(curr_obj['Body'])\n",
    "    return len(all_matches)>0"
   ]
  },
  {
   "cell_type": "code",
   "execution_count": 88,
   "metadata": {},
   "outputs": [],
   "source": [
    "def fetch_question_id_object(q_id):\n",
    "    ans=None\n",
    "    assert(type(q_id)==str)\n",
    "    for file_id in range(lb_file_idx, ub_file_idx+1):\n",
    "        if ans!=None:\n",
    "            break\n",
    "        print(\"Starting file with id: \", file_id)\n",
    "        with open(PREFIX_FILE_PATH+f\"/post_{file_id}.json\",'r') as fd:\n",
    "            df=json.load(fd)\n",
    "        new_df=dict()\n",
    "        for curr_key, curr_val in df.items():\n",
    "            # we do not want to process answers\n",
    "            if curr_val[\"PostTypeId\"]!=\"1\":\n",
    "                continue\n",
    "            if curr_val['Id']==q_id:\n",
    "                ans=deepcopy(curr_val)\n",
    "                print(\"Found\")\n",
    "                break\n",
    "    return ans"
   ]
  },
  {
   "cell_type": "markdown",
   "metadata": {},
   "source": [
    "## ==============================================="
   ]
  },
  {
   "cell_type": "code",
   "execution_count": 89,
   "metadata": {},
   "outputs": [
    {
     "name": "stdout",
     "output_type": "stream",
     "text": [
      "Starting file with id:  0\n",
      "Found\n"
     ]
    },
    {
     "data": {
      "text/plain": [
       "{'AcceptedAnswerId': '7',\n",
       " 'AnswerCount': '13',\n",
       " 'Body': \"<p>I'm new to C# and I want to use a track-bar to change a form's opacity.</p>\\n\\n<p>This is my code:</p>\\n\\n<pre><code>decimal trans = trackBar1.Value / 5000;\\nthis.Opacity = trans;\\n</code></pre>\\n\\n<p>When I try to build it, I get this error:</p>\\n\\n<blockquote>\\n  <p>Cannot implicitly convert type 'decimal' to 'double'</p>\\n</blockquote>\\n\\n<p>I tried making <code>trans</code> a double, but then the control doesn't work. This code worked fine for me in VB.NET. </p>\\n\\n<p>What do I need to do differently?</p>\\n\",\n",
       " 'CommentCount': '19',\n",
       " 'CreationDate': '2008-07-31T21:42:52.667',\n",
       " 'FavoriteCount': '14',\n",
       " 'Id': '4',\n",
       " 'LastActivityDate': '2012-07-24T16:45:40.937',\n",
       " 'LastEditDate': '2012-05-04T08:55:46.677',\n",
       " 'LastEditorDisplayName': 'Rich B',\n",
       " 'LastEditorUserId': '1039608',\n",
       " 'OwnerUserId': '8',\n",
       " 'PostTypeId': '1',\n",
       " 'Score': '139',\n",
       " 'Tags': '<c#><winforms><forms><type-conversion><opacity>',\n",
       " 'Title': \"When setting a form's opacity should I use a decimal or double?\",\n",
       " 'ViewCount': '9959'}"
      ]
     },
     "execution_count": 89,
     "metadata": {},
     "output_type": "execute_result"
    }
   ],
   "source": [
    "fetch_question_satisfying_a_condition(code_tag_in_body)"
   ]
  },
  {
   "cell_type": "code",
   "execution_count": 90,
   "metadata": {},
   "outputs": [
    {
     "name": "stdout",
     "output_type": "stream",
     "text": [
      "Starting file with id:  0\n",
      "Found\n"
     ]
    },
    {
     "data": {
      "text/plain": [
       "{'AcceptedAnswerId': '7',\n",
       " 'AnswerCount': '13',\n",
       " 'Body': \"<p>I'm new to C# and I want to use a track-bar to change a form's opacity.</p>\\n\\n<p>This is my code:</p>\\n\\n<pre><code>decimal trans = trackBar1.Value / 5000;\\nthis.Opacity = trans;\\n</code></pre>\\n\\n<p>When I try to build it, I get this error:</p>\\n\\n<blockquote>\\n  <p>Cannot implicitly convert type 'decimal' to 'double'</p>\\n</blockquote>\\n\\n<p>I tried making <code>trans</code> a double, but then the control doesn't work. This code worked fine for me in VB.NET. </p>\\n\\n<p>What do I need to do differently?</p>\\n\",\n",
       " 'CommentCount': '19',\n",
       " 'CreationDate': '2008-07-31T21:42:52.667',\n",
       " 'FavoriteCount': '14',\n",
       " 'Id': '4',\n",
       " 'LastActivityDate': '2012-07-24T16:45:40.937',\n",
       " 'LastEditDate': '2012-05-04T08:55:46.677',\n",
       " 'LastEditorDisplayName': 'Rich B',\n",
       " 'LastEditorUserId': '1039608',\n",
       " 'OwnerUserId': '8',\n",
       " 'PostTypeId': '1',\n",
       " 'Score': '139',\n",
       " 'Tags': '<c#><winforms><forms><type-conversion><opacity>',\n",
       " 'Title': \"When setting a form's opacity should I use a decimal or double?\",\n",
       " 'ViewCount': '9959'}"
      ]
     },
     "execution_count": 90,
     "metadata": {},
     "output_type": "execute_result"
    }
   ],
   "source": [
    "fetch_question_satisfying_a_condition(blockquote_tag_in_body)"
   ]
  },
  {
   "cell_type": "code",
   "execution_count": null,
   "metadata": {},
   "outputs": [],
   "source": []
  },
  {
   "cell_type": "code",
   "execution_count": 91,
   "metadata": {},
   "outputs": [
    {
     "name": "stdout",
     "output_type": "stream",
     "text": [
      "Starting file with id:  0\n",
      "Starting file with id:  1\n",
      "Starting file with id:  2\n",
      "Starting file with id:  3\n",
      "Starting file with id:  4\n",
      "Starting file with id:  5\n",
      "Found\n"
     ]
    },
    {
     "data": {
      "text/plain": [
       "{'AcceptedAnswerId': '777721',\n",
       " 'AnswerCount': '4',\n",
       " 'Body': '<blockquote>\\n  <p>Duplicate:\\n  <a href=\"http://stackoverflow.com/questions/163434/are-nulls-in-a-relational-database-okay\">http://stackoverflow.com/questions/163434/are-nulls-in-a-relational-database-okay</a></p>\\n</blockquote>\\n\\n<p>I dodged a heated debate concerning nulls in the database today.\\nMy opinion is that null is an excellent indicator of unspecified values. Every one else in the team, that has an opinion, thinks zero and empty strings are the way to go.</p>\\n\\n<p>Are they lazy or am I to strict?</p>\\n',\n",
       " 'CommentCount': '1',\n",
       " 'CreationDate': '2009-04-22T15:07:54.137',\n",
       " 'Id': '777711',\n",
       " 'LastActivityDate': '2009-04-22T15:11:00.667',\n",
       " 'LastEditDate': '2009-04-22T15:10:22.710',\n",
       " 'LastEditorDisplayName': '',\n",
       " 'LastEditorUserId': '44389',\n",
       " 'OwnerUserId': '21761',\n",
       " 'PostTypeId': '1',\n",
       " 'Score': '0',\n",
       " 'Tags': '<asp.net><sql><database><null>',\n",
       " 'Title': 'Is null harmful? [Duplicate]',\n",
       " 'ViewCount': '175'}"
      ]
     },
     "execution_count": 91,
     "metadata": {},
     "output_type": "execute_result"
    }
   ],
   "source": [
    "fetch_question_id_object(\"777711\")"
   ]
  },
  {
   "cell_type": "markdown",
   "metadata": {},
   "source": [
    "#### Just investigate the PostTypeIDs present (DEV)"
   ]
  },
  {
   "cell_type": "code",
   "execution_count": 92,
   "metadata": {},
   "outputs": [],
   "source": [
    "def check_post_types():\n",
    "    for curr_id, curr_val in df.items():\n",
    "        if curr_val['PostTypeId']!='1':\n",
    "            print(curr_val['PostTypeId'])"
   ]
  },
  {
   "cell_type": "markdown",
   "metadata": {},
   "source": [
    "## ========================================"
   ]
  },
  {
   "cell_type": "markdown",
   "metadata": {},
   "source": [
    "### Now, first find a duplicate and verify Gurkirat claim of just 2 duplicates using the paper's method"
   ]
  },
  {
   "cell_type": "code",
   "execution_count": 93,
   "metadata": {},
   "outputs": [],
   "source": [
    "def find_dups_in_title():\n",
    "    lb_file_idx=0\n",
    "    ub_file_idx=102\n",
    "\n",
    "    potential_dups_yet=0\n",
    "\n",
    "    for file_id in range(lb_file_idx, ub_file_idx+1):\n",
    "        print(\"Starting file with id: \", file_id)\n",
    "        with open(PREFIX_FILE_PATH+f\"/post_{file_id}.json\",'r') as fd:\n",
    "            df=json.load(fd)\n",
    "        new_df=dict()\n",
    "        for curr_key, curr_val in df.items():\n",
    "            # we do not want to process answers\n",
    "            if curr_val[\"PostTypeId\"]!=\"1\":\n",
    "                continue\n",
    "            matches=test_reg.findall(curr_val['Title'])\n",
    "            if len(matches)>0:\n",
    "                print(curr_key)\n",
    "                print(curr_val)\n",
    "                print(\"$$$$$$$$$$$$$$$$$$\")"
   ]
  },
  {
   "cell_type": "code",
   "execution_count": 94,
   "metadata": {},
   "outputs": [],
   "source": [
    "#find_dups_in_title()"
   ]
  },
  {
   "cell_type": "markdown",
   "metadata": {},
   "source": [
    "## ================================================"
   ]
  },
  {
   "cell_type": "markdown",
   "metadata": {},
   "source": [
    "## Run loop"
   ]
  },
  {
   "cell_type": "code",
   "execution_count": 95,
   "metadata": {},
   "outputs": [],
   "source": [
    "def clean_post(post_obj):\n",
    "    new_val=deepcopy(post_obj)\n",
    "    new_val['cleaned_body']=rem_blockquote(new_val['Body'])\n",
    "    #print(\"After rem is \",new_val['cleaned_body'] )\n",
    "    new_val['cleaned_body']=rem_code(new_val['cleaned_body'])\n",
    "    new_val['cleaned_body']=clean_tags_prevent_content(new_val['cleaned_body'])\n",
    "    new_val['cleaned_body']=clean_newline_stuff(new_val['cleaned_body'])\n",
    "\n",
    "    new_val['cleaned_title']=rem_dup(new_val['Title'])\n",
    "\n",
    "    #new_val['body_vec']=preprocess_object.parse_string(new_val['cleaned_body'])\n",
    "    #new_val['title_vec']=preprocess_object.parse_string(new_val['cleaned_title'])\n",
    "\n",
    "    try:\n",
    "        new_val['tags_list']=fetch_tags_list(new_val['Tags'])\n",
    "    except:\n",
    "        new_val['tags_list']=[]\n",
    "        print(curr_val)\n",
    "        #break\n",
    "    return new_val"
   ]
  },
  {
   "cell_type": "markdown",
   "metadata": {},
   "source": [
    "### Initial test"
   ]
  },
  {
   "cell_type": "code",
   "execution_count": 96,
   "metadata": {},
   "outputs": [
    {
     "name": "stdout",
     "output_type": "stream",
     "text": [
      "Starting file with id:  0\n",
      "Found\n",
      "Starting file with id:  0\n",
      "Found\n",
      "Starting file with id:  0\n",
      "Starting file with id:  1\n",
      "Starting file with id:  2\n",
      "Starting file with id:  3\n",
      "Starting file with id:  4\n",
      "Starting file with id:  5\n",
      "Found\n",
      "Starting file with id:  0\n",
      "Starting file with id:  1\n",
      "Starting file with id:  2\n",
      "Starting file with id:  3\n",
      "Starting file with id:  4\n",
      "Starting file with id:  5\n",
      "Found\n"
     ]
    }
   ],
   "source": [
    "test_arr=[fetch_question_satisfying_a_condition(code_tag_in_body),\n",
    "         fetch_question_satisfying_a_condition(blockquote_tag_in_body),\n",
    "          fetch_question_id_object('777711'),\n",
    "          fetch_question_id_object('783926')\n",
    "                                               ]"
   ]
  },
  {
   "cell_type": "code",
   "execution_count": 97,
   "metadata": {},
   "outputs": [],
   "source": [
    "test_ans=[]\n",
    "for curr_tc in test_arr:\n",
    "    curr_d=dict()\n",
    "    curr_d['input']=deepcopy(curr_tc)\n",
    "    curr_d['output']=clean_post(curr_tc)\n",
    "    test_ans.append(curr_d)\n",
    "with open(\"sample_of_cleanings.json\",'w') as fd:\n",
    "    json.dump(test_ans, fd, indent=4)"
   ]
  },
  {
   "cell_type": "code",
   "execution_count": 98,
   "metadata": {},
   "outputs": [
    {
     "ename": "SyntaxError",
     "evalue": "invalid syntax (<ipython-input-98-2644e9e677df>, line 1)",
     "output_type": "error",
     "traceback": [
      "\u001b[0;36m  File \u001b[0;32m\"<ipython-input-98-2644e9e677df>\"\u001b[0;36m, line \u001b[0;32m1\u001b[0m\n\u001b[0;31m    ------------------\u001b[0m\n\u001b[0m                      ^\u001b[0m\n\u001b[0;31mSyntaxError\u001b[0m\u001b[0;31m:\u001b[0m invalid syntax\n"
     ]
    }
   ],
   "source": [
    "------------------"
   ]
  },
  {
   "cell_type": "markdown",
   "metadata": {},
   "source": [
    "### Final loop"
   ]
  },
  {
   "cell_type": "code",
   "execution_count": null,
   "metadata": {
    "scrolled": true
   },
   "outputs": [],
   "source": [
    "\n",
    "for file_id in range(lb_file_idx, ub_file_idx+1):\n",
    "    print(\"Starting file with id: \", file_id)\n",
    "    with open(PREFIX_FILE_PATH+f\"/post_{file_id}.json\",'r') as fd:\n",
    "        df=json.load(fd)\n",
    "    new_df=dict()\n",
    "    for curr_key, curr_val in df.items():\n",
    "        # we do not want to process answers\n",
    "        if curr_val[\"PostTypeId\"]!=\"1\":\n",
    "            continue\n",
    "        \n",
    "        new_df[curr_key]=clean_post(curr_val)\n",
    "    print(\"Finished \", file_id)\n",
    "    print(\"dups potential \", potential_dups_yet)\n",
    "    print(\"-----------\")\n",
    "    with open(PREFIX_OUTPUT_FILE_PATH+f\"/post_{file_id}.json\",'w') as fd:\n",
    "        json.dump(new_df, fd, indent=1)"
   ]
  },
  {
   "cell_type": "code",
   "execution_count": null,
   "metadata": {},
   "outputs": [],
   "source": []
  }
 ],
 "metadata": {
  "kernelspec": {
   "display_name": "Python 3",
   "language": "python",
   "name": "python3"
  },
  "language_info": {
   "codemirror_mode": {
    "name": "ipython",
    "version": 3
   },
   "file_extension": ".py",
   "mimetype": "text/x-python",
   "name": "python",
   "nbconvert_exporter": "python",
   "pygments_lexer": "ipython3",
   "version": "3.7.6"
  }
 },
 "nbformat": 4,
 "nbformat_minor": 4
}
