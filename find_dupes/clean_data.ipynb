{
 "cells": [
  {
   "cell_type": "code",
   "execution_count": 42,
   "metadata": {},
   "outputs": [],
   "source": [
    "import os\n",
    "import json\n",
    "import re\n",
    "from copy import deepcopy"
   ]
  },
  {
   "cell_type": "markdown",
   "metadata": {},
   "source": [
    "### To clean self-closing tags and both closing tags from URL"
   ]
  },
  {
   "cell_type": "code",
   "execution_count": 32,
   "metadata": {},
   "outputs": [],
   "source": [
    "#https://stackoverflow.com/a/11229866\n",
    "self_contained_ref_regex=r\"<[^>]*>\"\n",
    "self_contained_ref_pattern=re.compile(self_contained_ref_regex)\n",
    "\n",
    "def clean_tags_prevent_content(curr_text):\n",
    "    curr_text=self_contained_ref_pattern.sub(\" \",curr_text)\n",
    "    return curr_text"
   ]
  },
  {
   "cell_type": "code",
   "execution_count": 35,
   "metadata": {},
   "outputs": [],
   "source": [
    "def clean_newline_stuff(curr_text):\n",
    "    curr_text=curr_text.replace(\"\\n\",\"\")\n",
    "    curr_text=curr_text.replace(\"\\t\",\"\")\n",
    "    return curr_text"
   ]
  },
  {
   "cell_type": "code",
   "execution_count": 40,
   "metadata": {},
   "outputs": [],
   "source": [
    "def fetch_tags_list(tag_text):\n",
    "    arr=tag_text.split(\">\")\n",
    "    arr=list(filter(lambda x:x!=\"\",arr))\n",
    "    arr=[x[1:] for x in arr]\n",
    "    return arr"
   ]
  },
  {
   "cell_type": "code",
   "execution_count": 41,
   "metadata": {},
   "outputs": [
    {
     "data": {
      "text/plain": [
       "['c#', 'winforms', 'forms', 'type-conversion', 'opacity']"
      ]
     },
     "execution_count": 41,
     "metadata": {},
     "output_type": "execute_result"
    }
   ],
   "source": [
    "fetch_tags_list(tags_now)"
   ]
  },
  {
   "cell_type": "markdown",
   "metadata": {},
   "source": [
    "## Run loop"
   ]
  },
  {
   "cell_type": "code",
   "execution_count": 51,
   "metadata": {},
   "outputs": [],
   "source": [
    "PREFIX_FILE_PATH=\"../data_files/pp_result/result\"\n",
    "NEW_PREFIX_FILE_PATH=\"../data_files/cleaned_pp_result\""
   ]
  },
  {
   "cell_type": "code",
   "execution_count": 59,
   "metadata": {},
   "outputs": [],
   "source": [
    "lb_file_idx=0\n",
    "ub_file_idx=0\n",
    "\n",
    "for file_id in range(lb_file_idx, ub_file_idx+1):\n",
    "    with open(PREFIX_FILE_PATH+f\"/post_{file_id}.json\",'r') as fd:\n",
    "        df=json.load(fd)\n",
    "    new_df=dict()\n",
    "    for curr_key, curr_val in df.items():\n",
    "        if curr_val[\"PostTypeId\"]!=\"1\":\n",
    "            continue\n",
    "        new_val=deepcopy(curr_val)\n",
    "        new_val['cleaned_body']=clean_tags_prevent_content(new_val['Body'])\n",
    "        new_val['cleaned_body']=clean_newline_stuff(new_val['cleaned_body'])\n",
    "        try:\n",
    "            new_val['tags_list']=fetch_tags_list(new_val['Tags'])\n",
    "        except:\n",
    "            print(curr_val)\n",
    "            break\n",
    "        new_df[curr_key]=deepcopy(new_val)\n",
    "    with open(NEW_PREFIX_FILE_PATH+f\"/post_{file_id}.json\",'w') as fd:\n",
    "        json.dump(new_df, fd, indent=1)"
   ]
  },
  {
   "cell_type": "code",
   "execution_count": null,
   "metadata": {},
   "outputs": [],
   "source": []
  },
  {
   "cell_type": "markdown",
   "metadata": {},
   "source": [
    "### See master-slave via data"
   ]
  },
  {
   "cell_type": "code",
   "execution_count": null,
   "metadata": {},
   "outputs": [],
   "source": []
  }
 ],
 "metadata": {
  "kernelspec": {
   "display_name": "Python 3",
   "language": "python",
   "name": "python3"
  },
  "language_info": {
   "codemirror_mode": {
    "name": "ipython",
    "version": 3
   },
   "file_extension": ".py",
   "mimetype": "text/x-python",
   "name": "python",
   "nbconvert_exporter": "python",
   "pygments_lexer": "ipython3",
   "version": "3.7.6"
  }
 },
 "nbformat": 4,
 "nbformat_minor": 4
}
