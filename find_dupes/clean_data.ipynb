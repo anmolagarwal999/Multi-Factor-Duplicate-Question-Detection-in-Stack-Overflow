{
 "cells": [
  {
   "cell_type": "code",
   "execution_count": 29,
   "metadata": {},
   "outputs": [],
   "source": [
    "import os\n",
    "import json\n",
    "import re"
   ]
  },
  {
   "cell_type": "code",
   "execution_count": 4,
   "metadata": {},
   "outputs": [
    {
     "name": "stdout",
     "output_type": "stream",
     "text": [
      "post_0.json\r\n"
     ]
    }
   ],
   "source": [
    "!ls ../user_result"
   ]
  },
  {
   "cell_type": "code",
   "execution_count": 5,
   "metadata": {},
   "outputs": [],
   "source": [
    "PATH_USER=\"../user_result/post_0.json\""
   ]
  },
  {
   "cell_type": "code",
   "execution_count": 6,
   "metadata": {},
   "outputs": [],
   "source": [
    "with open(PATH_USER, 'r') as fd:\n",
    "    df=json.load(fd)"
   ]
  },
  {
   "cell_type": "code",
   "execution_count": 9,
   "metadata": {},
   "outputs": [
    {
     "data": {
      "text/plain": [
       "1295620"
      ]
     },
     "execution_count": 9,
     "metadata": {},
     "output_type": "execute_result"
    }
   ],
   "source": [
    "len(df.keys())"
   ]
  },
  {
   "cell_type": "code",
   "execution_count": 10,
   "metadata": {},
   "outputs": [
    {
     "data": {
      "text/plain": [
       "{'CreationDate': '2008-07-31T14:22:31.287', 'Id': '1'}"
      ]
     },
     "execution_count": 10,
     "metadata": {},
     "output_type": "execute_result"
    }
   ],
   "source": [
    "df['1']"
   ]
  },
  {
   "cell_type": "code",
   "execution_count": 11,
   "metadata": {},
   "outputs": [],
   "source": [
    "lb_file_idx=0\n",
    "ub_file_idx=124"
   ]
  },
  {
   "cell_type": "code",
   "execution_count": 12,
   "metadata": {},
   "outputs": [],
   "source": [
    "PREFIX_FILE_PATH=\"../data_files/pp_result/result\""
   ]
  },
  {
   "cell_type": "code",
   "execution_count": 20,
   "metadata": {},
   "outputs": [],
   "source": [
    "id=0\n",
    "with open(PREFIX_FILE_PATH+f\"/post_{id}.json\",'r') as fd:\n",
    "    df=json.load(fd)"
   ]
  },
  {
   "cell_type": "code",
   "execution_count": 21,
   "metadata": {},
   "outputs": [
    {
     "data": {
      "text/plain": [
       "dict"
      ]
     },
     "execution_count": 21,
     "metadata": {},
     "output_type": "execute_result"
    }
   ],
   "source": [
    "type(df)"
   ]
  },
  {
   "cell_type": "code",
   "execution_count": 22,
   "metadata": {},
   "outputs": [
    {
     "data": {
      "text/plain": [
       "130588"
      ]
     },
     "execution_count": 22,
     "metadata": {},
     "output_type": "execute_result"
    }
   ],
   "source": [
    "len(df.keys())"
   ]
  },
  {
   "cell_type": "code",
   "execution_count": 25,
   "metadata": {},
   "outputs": [],
   "source": [
    "k_list=list(df.keys())"
   ]
  },
  {
   "cell_type": "code",
   "execution_count": 26,
   "metadata": {},
   "outputs": [
    {
     "data": {
      "text/plain": [
       "'4'"
      ]
     },
     "execution_count": 26,
     "metadata": {},
     "output_type": "execute_result"
    }
   ],
   "source": [
    "k_list[0]"
   ]
  },
  {
   "cell_type": "code",
   "execution_count": 27,
   "metadata": {},
   "outputs": [
    {
     "data": {
      "text/plain": [
       "{'AcceptedAnswerId': '7',\n",
       " 'AnswerCount': '13',\n",
       " 'Body': \"<p>I'm new to C# and I want to use a track-bar to change a form's opacity.</p>\\n\\n<p>This is my code:</p>\\n\\n<pre><code>decimal trans = trackBar1.Value / 5000;\\nthis.Opacity = trans;\\n</code></pre>\\n\\n<p>When I try to build it, I get this error:</p>\\n\\n<blockquote>\\n  <p>Cannot implicitly convert type 'decimal' to 'double'</p>\\n</blockquote>\\n\\n<p>I tried making <code>trans</code> a double, but then the control doesn't work. This code worked fine for me in VB.NET. </p>\\n\\n<p>What do I need to do differently?</p>\\n\",\n",
       " 'CommentCount': '19',\n",
       " 'CreationDate': '2008-07-31T21:42:52.667',\n",
       " 'FavoriteCount': '14',\n",
       " 'Id': '4',\n",
       " 'LastActivityDate': '2012-07-24T16:45:40.937',\n",
       " 'LastEditDate': '2012-05-04T08:55:46.677',\n",
       " 'LastEditorDisplayName': 'Rich B',\n",
       " 'LastEditorUserId': '1039608',\n",
       " 'OwnerUserId': '8',\n",
       " 'PostTypeId': '1',\n",
       " 'Score': '139',\n",
       " 'Tags': '<c#><winforms><forms><type-conversion><opacity>',\n",
       " 'Title': \"When setting a form's opacity should I use a decimal or double?\",\n",
       " 'ViewCount': '9959'}"
      ]
     },
     "execution_count": 27,
     "metadata": {},
     "output_type": "execute_result"
    }
   ],
   "source": [
    "df['4']"
   ]
  },
  {
   "cell_type": "markdown",
   "metadata": {},
   "source": [
    "### To clean self-closing tags and both closing tags from URL"
   ]
  },
  {
   "cell_type": "code",
   "execution_count": 32,
   "metadata": {},
   "outputs": [],
   "source": [
    "#https://stackoverflow.com/a/11229866\n",
    "self_contained_ref_regex=r\"<[^>]*>\"\n",
    "self_contained_ref_pattern=re.compile(self_contained_ref_regex)\n",
    "\n",
    "def clean_tags_prevent_content(curr_text):\n",
    "    curr_text=self_contained_ref_pattern.sub(\" \",curr_text)\n",
    "    return curr_text"
   ]
  },
  {
   "cell_type": "code",
   "execution_count": 35,
   "metadata": {},
   "outputs": [],
   "source": [
    "def clean_newline_stuff(curr_text):\n",
    "    curr_text=curr_text.replace(\"\\n\",\"\")\n",
    "    curr_text=curr_text.replace(\"\\t\",\"\")\n",
    "    return curr_text"
   ]
  },
  {
   "cell_type": "code",
   "execution_count": 33,
   "metadata": {},
   "outputs": [],
   "source": [
    "ans=clean_tags_prevent_content(df['4']['Body'])"
   ]
  },
  {
   "cell_type": "code",
   "execution_count": 36,
   "metadata": {},
   "outputs": [
    {
     "data": {
      "text/plain": [
       "\"I'm new to C# and I want to use a track-bar to change a form's opacity.This is my code:decimal trans = trackBar1.Value / 5000;this.Opacity = trans;When I try to build it, I get this error:  Cannot implicitly convert type 'decimal' to 'double'I tried making trans a double, but then the control doesn't work. This code worked fine for me in VB.NET. What do I need to do differently?\""
      ]
     },
     "execution_count": 36,
     "metadata": {},
     "output_type": "execute_result"
    }
   ],
   "source": [
    "clean_newline_stuff(ans)"
   ]
  },
  {
   "cell_type": "code",
   "execution_count": 37,
   "metadata": {},
   "outputs": [],
   "source": [
    "tags_now=df['4']['Tags']"
   ]
  },
  {
   "cell_type": "code",
   "execution_count": 39,
   "metadata": {},
   "outputs": [
    {
     "data": {
      "text/plain": [
       "['<c#', '<winforms', '<forms', '<type-conversion', '<opacity', '']"
      ]
     },
     "execution_count": 39,
     "metadata": {},
     "output_type": "execute_result"
    }
   ],
   "source": [
    "tags_now.split(\">\")"
   ]
  },
  {
   "cell_type": "code",
   "execution_count": 40,
   "metadata": {},
   "outputs": [],
   "source": [
    "def fetch_tags_list(tag_text):\n",
    "    arr=tag_text.split(\">\")\n",
    "    arr=list(filter(lambda x:x!=\"\",arr))\n",
    "    arr=[x[1:] for x in arr]\n",
    "    return arr"
   ]
  },
  {
   "cell_type": "code",
   "execution_count": 41,
   "metadata": {},
   "outputs": [
    {
     "data": {
      "text/plain": [
       "['c#', 'winforms', 'forms', 'type-conversion', 'opacity']"
      ]
     },
     "execution_count": 41,
     "metadata": {},
     "output_type": "execute_result"
    }
   ],
   "source": [
    "fetch_tags_list(tags_now)"
   ]
  },
  {
   "cell_type": "markdown",
   "metadata": {},
   "source": [
    "### Extract post tags"
   ]
  },
  {
   "cell_type": "code",
   "execution_count": null,
   "metadata": {},
   "outputs": [],
   "source": []
  },
  {
   "cell_type": "code",
   "execution_count": null,
   "metadata": {},
   "outputs": [],
   "source": []
  },
  {
   "cell_type": "code",
   "execution_count": null,
   "metadata": {},
   "outputs": [],
   "source": []
  },
  {
   "cell_type": "markdown",
   "metadata": {},
   "source": [
    "### See master-slave via data"
   ]
  },
  {
   "cell_type": "code",
   "execution_count": null,
   "metadata": {},
   "outputs": [],
   "source": []
  }
 ],
 "metadata": {
  "kernelspec": {
   "display_name": "Python 3",
   "language": "python",
   "name": "python3"
  },
  "language_info": {
   "codemirror_mode": {
    "name": "ipython",
    "version": 3
   },
   "file_extension": ".py",
   "mimetype": "text/x-python",
   "name": "python",
   "nbconvert_exporter": "python",
   "pygments_lexer": "ipython3",
   "version": "3.7.6"
  }
 },
 "nbformat": 4,
 "nbformat_minor": 4
}
