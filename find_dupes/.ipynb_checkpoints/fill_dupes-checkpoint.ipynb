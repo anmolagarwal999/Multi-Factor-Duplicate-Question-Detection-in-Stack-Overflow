{
 "cells": [
  {
   "cell_type": "code",
   "execution_count": 1,
   "metadata": {},
   "outputs": [],
   "source": [
    "import os\n",
    "import json\n",
    "import re\n",
    "from copy import deepcopy"
   ]
  },
  {
   "cell_type": "markdown",
   "metadata": {},
   "source": [
    "### fetch useful ids"
   ]
  },
  {
   "cell_type": "code",
   "execution_count": 2,
   "metadata": {},
   "outputs": [],
   "source": [
    "with open(\"./ids_list.json\",'r') as fd:\n",
    "    useful_ids=set(json.load(fd)['ids_list'])"
   ]
  },
  {
   "cell_type": "code",
   "execution_count": null,
   "metadata": {},
   "outputs": [],
   "source": []
  },
  {
   "cell_type": "markdown",
   "metadata": {},
   "source": [
    "### Load all dupes"
   ]
  },
  {
   "cell_type": "code",
   "execution_count": 3,
   "metadata": {},
   "outputs": [
    {
     "name": "stdout",
     "output_type": "stream",
     "text": [
      " cleaned_pp_result\t  Postlinks_result.zip\r\n",
      " cleaned_pp_result.zip\t  pp_result\r\n",
      " postlinks_2021_sept\t  sample_files.json\r\n",
      " postlinks_2021_sept.7z  'Unconfirmed 892553.crdownload'\r\n",
      " Postlinks_result\r\n"
     ]
    }
   ],
   "source": [
    "!ls ../data_files"
   ]
  },
  {
   "cell_type": "code",
   "execution_count": 4,
   "metadata": {},
   "outputs": [],
   "source": [
    "postlinks_path=\"../data_files/Postlinks_result\""
   ]
  },
  {
   "cell_type": "code",
   "execution_count": 5,
   "metadata": {},
   "outputs": [],
   "source": [
    "slaves_dict=dict()\n",
    "masters_dict=dict()"
   ]
  },
  {
   "cell_type": "code",
   "execution_count": 6,
   "metadata": {
    "scrolled": true
   },
   "outputs": [],
   "source": [
    "lb_file_idx=0\n",
    "ub_file_idx=7\n",
    "cnt=0\n",
    "all_cnt=0\n",
    "for file_id in range(lb_file_idx, ub_file_idx+1):\n",
    "    with open(postlinks_path+f\"/post_{file_id}.json\", 'r') as fd:\n",
    "        df=json.load(fd)\n",
    "    for curr_key, curr_val in df.items():\n",
    "        if curr_val['LinkTypeId']!='3':\n",
    "            continue\n",
    "        all_cnt+=1\n",
    "        slave=curr_val['RelatedPostId']\n",
    "        master=curr_val['PostId']\n",
    "        if slave in useful_ids and master in useful_ids:\n",
    "            try:\n",
    "                slaves_dict[master].append(slave)\n",
    "            except:\n",
    "                slaves_dict[master]=[slave]\n",
    "            try:\n",
    "                masters_dict[slave].append(master)\n",
    "            except:\n",
    "                masters_dict[slave]=[master]\n",
    "        else:\n",
    "            cnt+=1"
   ]
  },
  {
   "cell_type": "code",
   "execution_count": 7,
   "metadata": {},
   "outputs": [
    {
     "data": {
      "text/plain": [
       "35170"
      ]
     },
     "execution_count": 7,
     "metadata": {},
     "output_type": "execute_result"
    }
   ],
   "source": [
    "len(masters_dict.keys())"
   ]
  },
  {
   "cell_type": "code",
   "execution_count": 12,
   "metadata": {},
   "outputs": [
    {
     "data": {
      "text/plain": [
       "46419"
      ]
     },
     "execution_count": 12,
     "metadata": {},
     "output_type": "execute_result"
    }
   ],
   "source": [
    "len(slaves_dict.keys())"
   ]
  },
  {
   "cell_type": "code",
   "execution_count": 8,
   "metadata": {},
   "outputs": [
    {
     "data": {
      "text/plain": [
       "1132836"
      ]
     },
     "execution_count": 8,
     "metadata": {},
     "output_type": "execute_result"
    }
   ],
   "source": [
    "cnt"
   ]
  },
  {
   "cell_type": "code",
   "execution_count": 9,
   "metadata": {},
   "outputs": [
    {
     "data": {
      "text/plain": [
       "1182580"
      ]
     },
     "execution_count": 9,
     "metadata": {},
     "output_type": "execute_result"
    }
   ],
   "source": [
    "all_cnt"
   ]
  },
  {
   "cell_type": "code",
   "execution_count": 11,
   "metadata": {},
   "outputs": [
    {
     "data": {
      "text/plain": [
       "49744"
      ]
     },
     "execution_count": 11,
     "metadata": {},
     "output_type": "execute_result"
    }
   ],
   "source": [
    "all_cnt-cnt"
   ]
  },
  {
   "cell_type": "code",
   "execution_count": 10,
   "metadata": {},
   "outputs": [],
   "source": [
    "with open(\"master_slave_mapping.json\",'w') as fd:\n",
    "    json.dump({\"masters_dict\":masters_dict, \"slaves_dict\":slaves_dict},fd,indent=1)"
   ]
  }
 ],
 "metadata": {
  "kernelspec": {
   "display_name": "Python 3",
   "language": "python",
   "name": "python3"
  },
  "language_info": {
   "codemirror_mode": {
    "name": "ipython",
    "version": 3
   },
   "file_extension": ".py",
   "mimetype": "text/x-python",
   "name": "python",
   "nbconvert_exporter": "python",
   "pygments_lexer": "ipython3",
   "version": "3.7.6"
  }
 },
 "nbformat": 4,
 "nbformat_minor": 4
}
