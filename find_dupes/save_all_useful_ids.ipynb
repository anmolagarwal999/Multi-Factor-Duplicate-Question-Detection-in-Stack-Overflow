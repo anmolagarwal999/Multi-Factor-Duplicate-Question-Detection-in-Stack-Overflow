{
 "cells": [
  {
   "cell_type": "code",
   "execution_count": 1,
   "metadata": {},
   "outputs": [],
   "source": [
    "import os\n",
    "import json\n",
    "import re\n",
    "from copy import deepcopy"
   ]
  },
  {
   "cell_type": "code",
   "execution_count": 2,
   "metadata": {},
   "outputs": [],
   "source": [
    "useful_ids=list()"
   ]
  },
  {
   "cell_type": "markdown",
   "metadata": {},
   "source": [
    "## Run loop"
   ]
  },
  {
   "cell_type": "code",
   "execution_count": 3,
   "metadata": {},
   "outputs": [],
   "source": [
    "PREFIX_FILE_PATH=\"../data_files/cleaned_pp_result\""
   ]
  },
  {
   "cell_type": "code",
   "execution_count": 4,
   "metadata": {},
   "outputs": [],
   "source": [
    "# stores tuples of form <time,post id, file num>\n",
    "details_arr=[]"
   ]
  },
  {
   "cell_type": "code",
   "execution_count": 5,
   "metadata": {},
   "outputs": [
    {
     "name": "stdout",
     "output_type": "stream",
     "text": [
      "0 -> 22840\n",
      "1 -> 25937\n",
      "2 -> 25579\n",
      "3 -> 25832\n",
      "4 -> 27881\n",
      "5 -> 28653\n",
      "6 -> 28833\n",
      "7 -> 29113\n",
      "8 -> 30039\n",
      "9 -> 30688\n",
      "10 -> 31068\n",
      "11 -> 31090\n",
      "12 -> 30548\n",
      "13 -> 31088\n",
      "14 -> 30558\n",
      "15 -> 31619\n",
      "16 -> 32322\n",
      "17 -> 33063\n",
      "18 -> 33495\n",
      "19 -> 33664\n",
      "20 -> 34124\n",
      "21 -> 33961\n",
      "22 -> 34412\n",
      "23 -> 34233\n",
      "24 -> 34163\n",
      "25 -> 34578\n",
      "26 -> 34366\n",
      "27 -> 34150\n",
      "28 -> 34776\n",
      "29 -> 34527\n",
      "30 -> 34952\n",
      "31 -> 34646\n",
      "32 -> 34556\n",
      "33 -> 34523\n",
      "34 -> 34987\n",
      "35 -> 34358\n",
      "36 -> 34452\n",
      "37 -> 34372\n",
      "38 -> 34613\n",
      "39 -> 34998\n",
      "40 -> 34495\n",
      "41 -> 35015\n",
      "42 -> 34566\n",
      "43 -> 34569\n",
      "44 -> 34510\n",
      "45 -> 34537\n",
      "46 -> 34693\n",
      "47 -> 34606\n",
      "48 -> 34605\n",
      "49 -> 33952\n",
      "50 -> 34309\n",
      "51 -> 33671\n",
      "52 -> 34156\n",
      "53 -> 34480\n",
      "54 -> 34218\n",
      "55 -> 34981\n",
      "56 -> 35468\n",
      "57 -> 34578\n",
      "58 -> 35086\n",
      "59 -> 35526\n",
      "60 -> 35972\n",
      "61 -> 36152\n",
      "62 -> 35474\n",
      "63 -> 36122\n",
      "64 -> 35267\n",
      "65 -> 35401\n",
      "66 -> 35083\n",
      "67 -> 34963\n",
      "68 -> 34809\n",
      "69 -> 34608\n",
      "70 -> 34806\n",
      "71 -> 34777\n",
      "72 -> 33633\n",
      "73 -> 34292\n",
      "74 -> 34580\n",
      "75 -> 34451\n",
      "76 -> 34906\n",
      "77 -> 34485\n",
      "78 -> 35453\n",
      "79 -> 34853\n",
      "80 -> 34984\n",
      "81 -> 34891\n",
      "82 -> 34833\n",
      "83 -> 34816\n",
      "84 -> 34848\n",
      "85 -> 34108\n",
      "86 -> 34512\n",
      "87 -> 34725\n",
      "88 -> 34223\n",
      "89 -> 34558\n",
      "90 -> 34937\n",
      "91 -> 34892\n",
      "92 -> 34573\n",
      "93 -> 34557\n",
      "94 -> 34491\n",
      "95 -> 34601\n",
      "96 -> 34695\n",
      "97 -> 35184\n",
      "98 -> 35005\n",
      "99 -> 35007\n",
      "100 -> 35739\n",
      "101 -> 35065\n",
      "102 -> 12733\n"
     ]
    }
   ],
   "source": [
    "lb_file_idx=0\n",
    "ub_file_idx=102\n",
    "\n",
    "for file_id in range(lb_file_idx, ub_file_idx+1):\n",
    "    with open(PREFIX_FILE_PATH+f\"/post_{file_id}.json\", 'r') as fd:\n",
    "        df=json.load(fd)\n",
    "    print(f\"{file_id} -> {len(df.keys())}\")\n",
    "    for curr_key, curr_val in df.items():\n",
    "        useful_ids.append(curr_key)\n",
    "    "
   ]
  },
  {
   "cell_type": "code",
   "execution_count": 6,
   "metadata": {},
   "outputs": [
    {
     "data": {
      "text/plain": [
       "3453742"
      ]
     },
     "execution_count": 6,
     "metadata": {},
     "output_type": "execute_result"
    }
   ],
   "source": [
    "len(useful_ids)"
   ]
  },
  {
   "cell_type": "code",
   "execution_count": 7,
   "metadata": {},
   "outputs": [],
   "source": [
    "useful_ids=list(set(useful_ids))"
   ]
  },
  {
   "cell_type": "code",
   "execution_count": 8,
   "metadata": {},
   "outputs": [
    {
     "data": {
      "text/plain": [
       "3453742"
      ]
     },
     "execution_count": 8,
     "metadata": {},
     "output_type": "execute_result"
    }
   ],
   "source": [
    "len(useful_ids)"
   ]
  },
  {
   "cell_type": "code",
   "execution_count": 10,
   "metadata": {},
   "outputs": [],
   "source": [
    "with open(\"./ids_list.json\",'w') as fd:\n",
    "    json.dump({\"ids_list\":useful_ids}, fd, indent=1)"
   ]
  },
  {
   "cell_type": "code",
   "execution_count": null,
   "metadata": {},
   "outputs": [],
   "source": []
  }
 ],
 "metadata": {
  "kernelspec": {
   "display_name": "Python 3",
   "language": "python",
   "name": "python3"
  },
  "language_info": {
   "codemirror_mode": {
    "name": "ipython",
    "version": 3
   },
   "file_extension": ".py",
   "mimetype": "text/x-python",
   "name": "python",
   "nbconvert_exporter": "python",
   "pygments_lexer": "ipython3",
   "version": "3.7.6"
  }
 },
 "nbformat": 4,
 "nbformat_minor": 4
}
