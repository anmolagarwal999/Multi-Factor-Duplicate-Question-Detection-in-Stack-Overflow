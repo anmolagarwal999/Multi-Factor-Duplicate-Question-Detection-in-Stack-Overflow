{
 "cells": [
  {
   "cell_type": "code",
   "execution_count": 1,
   "metadata": {},
   "outputs": [],
   "source": [
    "import datetime\n",
    "import heapq\n",
    "import json\n",
    "import os\n",
    "import math\n",
    "import sys\n",
    "\n",
    "from preprocessing import Preprocess\n",
    "from composer import Composer as Compose_class"
   ]
  },
  {
   "cell_type": "code",
   "execution_count": 2,
   "metadata": {},
   "outputs": [],
   "source": [
    "%load_ext autoreload\n",
    "%autoreload 2"
   ]
  },
  {
   "cell_type": "code",
   "execution_count": 3,
   "metadata": {
    "scrolled": true
   },
   "outputs": [
    {
     "name": "stdout",
     "output_type": "stream",
     "text": [
      "badge_result.zip  last_bow.ipynb\t      sample_result\r\n",
      "composer.py\t  LDA.py\t\t      stopwords.py\r\n",
      "config.py\t  list_of_dup_questions.json  tags_result\r\n",
      "DataExtraction\t  manipulate_gsc_data.ipynb   user_result\r\n",
      "data_files\t  Postlinks_result.zip\t      user_result.zip\r\n",
      "extractor.py\t  preprocessing.py\r\n",
      "-f\t\t  __pycache__\r\n"
     ]
    }
   ],
   "source": [
    "!ls"
   ]
  },
  {
   "cell_type": "code",
   "execution_count": 6,
   "metadata": {},
   "outputs": [],
   "source": [
    "file_for_dup_posts=\"./list_of_dup_questions.json\"\n",
    "path_for_all_questions=\"./data_files/super_pp_result\"\n",
    "composer = Compose_class(duplicate_path=file_for_dup_posts, question_path=path_for_all_questions)"
   ]
  },
  {
   "cell_type": "code",
   "execution_count": 7,
   "metadata": {},
   "outputs": [
    {
     "name": "stdout",
     "output_type": "stream",
     "text": [
      "Opening and loading all duplicates\n",
      "Dups loaded : found 488\n"
     ]
    }
   ],
   "source": [
    "composer.duplicate_similarity()"
   ]
  },
  {
   "cell_type": "code",
   "execution_count": null,
   "metadata": {},
   "outputs": [],
   "source": []
  }
 ],
 "metadata": {
  "kernelspec": {
   "display_name": "Python 3",
   "language": "python",
   "name": "python3"
  },
  "language_info": {
   "codemirror_mode": {
    "name": "ipython",
    "version": 3
   },
   "file_extension": ".py",
   "mimetype": "text/x-python",
   "name": "python",
   "nbconvert_exporter": "python",
   "pygments_lexer": "ipython3",
   "version": "3.7.6"
  }
 },
 "nbformat": 4,
 "nbformat_minor": 4
}
