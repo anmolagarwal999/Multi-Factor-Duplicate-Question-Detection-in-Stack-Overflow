{
 "cells": [
  {
   "cell_type": "code",
   "execution_count": 22,
   "metadata": {},
   "outputs": [],
   "source": [
    "import json"
   ]
  },
  {
   "cell_type": "code",
   "execution_count": 15,
   "metadata": {},
   "outputs": [
    {
     "name": "stdout",
     "output_type": "stream",
     "text": [
      "badge_result.zip  data_files\t  list_of_dup_questions.json  stopwords.py\r\n",
      "composer.py\t  extractor.py\t  manipulate_gsc_data.ipynb   tags_result\r\n",
      "config.py\t  -f\t\t  Postlinks_result.zip\t      user_result\r\n",
      "curate_final\t  last_bow.ipynb  preprocessing.py\t      user_result.zip\r\n",
      "DataExtraction\t  LDA.py\t  __pycache__\r\n"
     ]
    }
   ],
   "source": [
    "!ls"
   ]
  },
  {
   "cell_type": "code",
   "execution_count": 23,
   "metadata": {},
   "outputs": [],
   "source": [
    "pref_path=\"./curate_final/\""
   ]
  },
  {
   "cell_type": "code",
   "execution_count": 24,
   "metadata": {},
   "outputs": [],
   "source": [
    "lb_id=0\n",
    "ub_id=0"
   ]
  },
  {
   "cell_type": "code",
   "execution_count": 26,
   "metadata": {},
   "outputs": [],
   "source": [
    "dups_list=[]\n",
    "dups_cnt=0"
   ]
  },
  {
   "cell_type": "code",
   "execution_count": 27,
   "metadata": {},
   "outputs": [
    {
     "name": "stdout",
     "output_type": "stream",
     "text": [
      "Loaded file with id  0\n",
      "Achieved landmark at file  0\n",
      "610\n",
      "60000\n"
     ]
    }
   ],
   "source": [
    "for curr_file_id in range(lb_id, ub_id+1):\n",
    "    with open(pref_path+f\"final_{curr_file_id}.json\",'r') as fd:\n",
    "        df=json.load(fd)\n",
    "    print(\"Loaded file with id \", curr_file_id)\n",
    "    for key in sorted(df):\n",
    "        num_masters=len(df[key]['dups_list'])\n",
    "        if num_masters!=0:\n",
    "            # its a duplicate\n",
    "            dups_list.append(df[key])\n",
    "            dups_cnt+=1\n",
    "            if dups_cnt==300:\n",
    "                print(\"Achieved landmark at file \", curr_file_id)\n",
    "    print(dups_cnt)\n",
    "    print(len(df))"
   ]
  },
  {
   "cell_type": "code",
   "execution_count": 28,
   "metadata": {},
   "outputs": [],
   "source": [
    "DUP_FILE_NAME=\"./list_of_dup_questions.json\""
   ]
  },
  {
   "cell_type": "code",
   "execution_count": 29,
   "metadata": {},
   "outputs": [
    {
     "data": {
      "text/plain": [
       "610"
      ]
     },
     "execution_count": 29,
     "metadata": {},
     "output_type": "execute_result"
    }
   ],
   "source": [
    "len(dups_list)"
   ]
  },
  {
   "cell_type": "code",
   "execution_count": 30,
   "metadata": {},
   "outputs": [],
   "source": [
    "the_dict={}\n",
    "for curr_elem in dups_list:\n",
    "    the_dict[curr_elem['Id']]=curr_elem"
   ]
  },
  {
   "cell_type": "code",
   "execution_count": 31,
   "metadata": {},
   "outputs": [],
   "source": [
    "with open(DUP_FILE_NAME, 'w') as fd:\n",
    "    json.dump(the_dict, fd)"
   ]
  },
  {
   "cell_type": "code",
   "execution_count": null,
   "metadata": {},
   "outputs": [],
   "source": []
  }
 ],
 "metadata": {
  "kernelspec": {
   "display_name": "Python 3",
   "language": "python",
   "name": "python3"
  },
  "language_info": {
   "codemirror_mode": {
    "name": "ipython",
    "version": 3
   },
   "file_extension": ".py",
   "mimetype": "text/x-python",
   "name": "python",
   "nbconvert_exporter": "python",
   "pygments_lexer": "ipython3",
   "version": "3.7.6"
  }
 },
 "nbformat": 4,
 "nbformat_minor": 4
}
